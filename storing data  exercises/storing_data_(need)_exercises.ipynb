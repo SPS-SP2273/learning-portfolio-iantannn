{
 "cells": [
  {
   "cell_type": "markdown",
   "id": "123456",
   "metadata": {},
   "source": [
    "<div style=\"text-align:left;font-size:2em\"><span style=\"font-weight:bolder;font-size:1.25em\">SP2273 | Learning Portfolio</span><br><br><span style=\"font-weight:bold;color:darkred\">Storing Data (Need) Exercises</span></div>"
   ]
  },
  {
   "cell_type": "markdown",
   "id": "807629ab",
   "metadata": {},
   "source": [
    "**Two similarities between lists and arrays.**\n",
    "1. Both lists and arrays stores data\n",
    "\n",
    "2. Lists and arrays can help calculate the max, min and sum of all the elements\n",
    "\n",
    "**Two differences between lists and arrays**\n",
    "1. An array allows for more arithmetic manipulation of the elements like square root and squared\n",
    "\n",
    "2. An array does not allow for different types of values, i.e. all elements must be either strings, floats or integers. Lists on the other hand can support different elements being different types\n",
    "\n",
    "**What is a dictionary**\n",
    "1. A dictionary is a form to store data, where each element is assigned a \"key\". These elements can then in turn be accessed by the key defined"
   ]
  },
  {
   "cell_type": "markdown",
   "id": "8651b6d0",
   "metadata": {},
   "source": [
    "## Exercise 2 (Indexing)"
   ]
  },
  {
   "cell_type": "code",
   "execution_count": 3,
   "id": "90956eca",
   "metadata": {},
   "outputs": [
    {
     "name": "stdout",
     "output_type": "stream",
     "text": [
      "i9\n",
      "['a1', 'c3', 'e5', 'g7', 'i9']\n"
     ]
    }
   ],
   "source": [
    "py_list = [\"a1\", \"b2\", \"c3\", \"d4\", \"e5\", \"f6\", \"g7\", \"h8\", \"i9\", \"j10\"]\n",
    "                    # Prints 'a1'\n",
    "                    # Prints 'c3'\n",
    "                    # Prints 'e5'\n",
    "                    # Prints 'g7'\n",
    "print(py_list[8])   # Prints 'i9'\n",
    "\n",
    "#print all the elements from 0, in increasing order of 2\n",
    "print(py_list[::2])"
   ]
  },
  {
   "cell_type": "markdown",
   "id": "1645baa9",
   "metadata": {},
   "source": [
    "## Exercise 3 (Index again)"
   ]
  },
  {
   "cell_type": "code",
   "execution_count": 5,
   "id": "3729b541",
   "metadata": {},
   "outputs": [
    {
     "name": "stdout",
     "output_type": "stream",
     "text": [
      "Boron\n",
      "Boron\n"
     ]
    }
   ],
   "source": [
    "elements = ['Hydrogen',\n",
    "            'Helium', 'Lithium',\n",
    "            'Beryllium', 'Boron', 'Carbon',\n",
    "            'Nitrogen', 'Oxygen',\n",
    "            'Fluorine',\n",
    "            'Neon']\n",
    "\n",
    "#1. Access and print the element at index 4 using forward indexing.\n",
    "print(elements[4])\n",
    "\n",
    "#2. Acess and print the element at index 4 from the end fo the list using reverse indexing.\n",
    "print(elements[-6])"
   ]
  },
  {
   "cell_type": "markdown",
   "id": "4b2df3ff",
   "metadata": {},
   "source": [
    "## Exercise 4 (How many ones)"
   ]
  },
  {
   "cell_type": "code",
   "execution_count": 19,
   "id": "a76543df",
   "metadata": {},
   "outputs": [
    {
     "name": "stdout",
     "output_type": "stream",
     "text": [
      "9\n"
     ]
    }
   ],
   "source": [
    "numbers=[45, 60, 1, 30, 96, 1, 96, 57, 16, 1,\n",
    "        99, 62, 86, 43, 42, 60, 59, 1, 1, 35,\n",
    "        83, 47, 34, 28, 68, 23, 22, 92, 1, 79,\n",
    "        1, 29, 94, 72, 46, 47, 1, 74, 32, 20,\n",
    "        8, 37, 35, 1, 89, 29, 86, 19, 43, 61]      \n",
    "\n",
    "#import the NumPy function\n",
    "import numpy as np\n",
    "\n",
    "#Convert the list into an array\n",
    "numbers_array = np.array(numbers)\n",
    "check_array = numbers_array == 1\n",
    "\n",
    "#Create initial counter\n",
    "counter = 0\n",
    "\n",
    "#False is considered 0 and True is considered 1\n",
    "print(check_array.sum())"
   ]
  }
 ],
 "metadata": {
  "kernelspec": {
   "display_name": "Python 3 (ipykernel)",
   "language": "python",
   "name": "python3"
  },
  "language_info": {
   "codemirror_mode": {
    "name": "ipython",
    "version": 3
   },
   "file_extension": ".py",
   "mimetype": "text/x-python",
   "name": "python",
   "nbconvert_exporter": "python",
   "pygments_lexer": "ipython3",
   "version": "3.11.5"
  },
  "toc": {
   "base_numbering": 1,
   "nav_menu": {},
   "number_sections": true,
   "sideBar": true,
   "skip_h1_title": false,
   "title_cell": "Table of Contents",
   "title_sidebar": "Contents",
   "toc_cell": false,
   "toc_position": {},
   "toc_section_display": true,
   "toc_window_display": false
  },
  "varInspector": {
   "cols": {
    "lenName": 16,
    "lenType": 16,
    "lenVar": 40
   },
   "kernels_config": {
    "python": {
     "delete_cmd_postfix": "",
     "delete_cmd_prefix": "del ",
     "library": "var_list.py",
     "varRefreshCmd": "print(var_dic_list())"
    },
    "r": {
     "delete_cmd_postfix": ") ",
     "delete_cmd_prefix": "rm(",
     "library": "var_list.r",
     "varRefreshCmd": "cat(var_dic_list()) "
    }
   },
   "types_to_exclude": [
    "module",
    "function",
    "builtin_function_or_method",
    "instance",
    "_Feature"
   ],
   "window_display": false
  },
  "vscode": {
   "interpreter": {
    "hash": "31f2aee4e71d21fbe5cf8b01ff0e069b9275f58929596ceb00d14d90e3e16cd6"
   }
  }
 },
 "nbformat": 4,
 "nbformat_minor": 5
}
