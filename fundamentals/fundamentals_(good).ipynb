{
 "cells": [
  {
   "cell_type": "markdown",
   "id": "123456",
   "metadata": {},
   "source": [
    "<div style=\"text-align:left;font-size:2em\"><span style=\"font-weight:bolder;font-size:1.25em\">SP2273 | Learning Portfolio</span><br><br><span style=\"font-weight:bold;color:darkred\">Fundamentals (Good)</span></div>"
   ]
  },
  {
   "cell_type": "markdown",
   "id": "20a67c9c",
   "metadata": {},
   "source": [
    "# What to expect in this chapter"
   ]
  },
  {
   "cell_type": "markdown",
   "id": "fe87ec4b",
   "metadata": {},
   "source": [
    "# 1 There is more to if"
   ]
  },
  {
   "cell_type": "code",
   "execution_count": 3,
   "id": "0dbf18d2",
   "metadata": {},
   "outputs": [
    {
     "name": "stdout",
     "output_type": "stream",
     "text": [
      "Hello Batman!\n"
     ]
    }
   ],
   "source": [
    "name = \"batman\"\n",
    "\n",
    "if name == \"batman\":\n",
    "    print(\"Hello Batman!\")\n",
    "elif name == \"Robin\":\n",
    "    print(\"Hello sidekick!\")\n",
    "else:\n",
    "    print(\"Hello World\")\n"
   ]
  },
  {
   "cell_type": "markdown",
   "id": "f0a43f23",
   "metadata": {},
   "source": [
    "# 2 Asking questions"
   ]
  },
  {
   "cell_type": "code",
   "execution_count": 4,
   "id": "9c6adc6d",
   "metadata": {},
   "outputs": [],
   "source": [
    "fruits = [\"Apple\", \"Banana\", \"Watermelon\", \"Orange\"]\n",
    "vegetables = [\"Cucumber\", \"Cabbage\", \"Bittergourd\", \"Celery\"]"
   ]
  },
  {
   "cell_type": "code",
   "execution_count": 8,
   "id": "8b89c5dd",
   "metadata": {},
   "outputs": [
    {
     "data": {
      "text/plain": [
       "False"
      ]
     },
     "execution_count": 8,
     "metadata": {},
     "output_type": "execute_result"
    }
   ],
   "source": [
    "\"peach\" in fruits"
   ]
  },
  {
   "cell_type": "code",
   "execution_count": 9,
   "id": "8d0e2e81",
   "metadata": {},
   "outputs": [
    {
     "data": {
      "text/plain": [
       "False"
      ]
     },
     "execution_count": 9,
     "metadata": {},
     "output_type": "execute_result"
    }
   ],
   "source": [
    "\"apple\" in fruits"
   ]
  },
  {
   "cell_type": "code",
   "execution_count": 10,
   "id": "adbc6e2a",
   "metadata": {},
   "outputs": [
    {
     "data": {
      "text/plain": [
       "True"
      ]
     },
     "execution_count": 10,
     "metadata": {},
     "output_type": "execute_result"
    }
   ],
   "source": [
    "\"Banana\" in fruits"
   ]
  },
  {
   "cell_type": "code",
   "execution_count": 11,
   "id": "6a700fa1",
   "metadata": {},
   "outputs": [
    {
     "data": {
      "text/plain": [
       "False"
      ]
     },
     "execution_count": 11,
     "metadata": {},
     "output_type": "execute_result"
    }
   ],
   "source": [
    "\"Apple\" not in fruits"
   ]
  },
  {
   "cell_type": "code",
   "execution_count": 12,
   "id": "c9376957",
   "metadata": {},
   "outputs": [
    {
     "data": {
      "text/plain": [
       "False"
      ]
     },
     "execution_count": 12,
     "metadata": {},
     "output_type": "execute_result"
    }
   ],
   "source": [
    "\"Apple\" in fruits and \"cucumber\" in vegetables"
   ]
  },
  {
   "cell_type": "code",
   "execution_count": 13,
   "id": "d3625ab4",
   "metadata": {},
   "outputs": [
    {
     "data": {
      "text/plain": [
       "True"
      ]
     },
     "execution_count": 13,
     "metadata": {},
     "output_type": "execute_result"
    }
   ],
   "source": [
    "\"Apple\" in fruits and \"Cucumber\" in vegetables"
   ]
  },
  {
   "cell_type": "code",
   "execution_count": 14,
   "id": "febc9a52",
   "metadata": {},
   "outputs": [
    {
     "data": {
      "text/plain": [
       "True"
      ]
     },
     "execution_count": 14,
     "metadata": {},
     "output_type": "execute_result"
    }
   ],
   "source": [
    "\"Apple\" in fruits or \"Cucumber\" in vegetables"
   ]
  },
  {
   "cell_type": "code",
   "execution_count": 15,
   "id": "dc7201ed",
   "metadata": {},
   "outputs": [
    {
     "data": {
      "text/plain": [
       "True"
      ]
     },
     "execution_count": 15,
     "metadata": {},
     "output_type": "execute_result"
    }
   ],
   "source": [
    "\"Apple\" in fruits or \"cucumber\" in vegetables"
   ]
  },
  {
   "cell_type": "code",
   "execution_count": 16,
   "id": "3820f71b",
   "metadata": {},
   "outputs": [
    {
     "data": {
      "text/plain": [
       "False"
      ]
     },
     "execution_count": 16,
     "metadata": {},
     "output_type": "execute_result"
    }
   ],
   "source": [
    "\"apple\" in fruits or \"cucumber\" in vegetables"
   ]
  },
  {
   "cell_type": "code",
   "execution_count": 17,
   "id": "7a4e87fa",
   "metadata": {},
   "outputs": [
    {
     "data": {
      "text/plain": [
       "True"
      ]
     },
     "execution_count": 17,
     "metadata": {},
     "output_type": "execute_result"
    }
   ],
   "source": [
    "\"App\" in fruits[0]"
   ]
  },
  {
   "cell_type": "markdown",
   "id": "3ccfd8a1",
   "metadata": {},
   "source": [
    "# 3 Remember"
   ]
  },
  {
   "cell_type": "markdown",
   "id": "b142df55",
   "metadata": {},
   "source": [
    "## 3.1 Asking Math questions"
   ]
  },
  {
   "cell_type": "code",
   "execution_count": 20,
   "id": "b3dbf120",
   "metadata": {},
   "outputs": [
    {
     "data": {
      "text/plain": [
       "False"
      ]
     },
     "execution_count": 20,
     "metadata": {},
     "output_type": "execute_result"
    }
   ],
   "source": [
    "5 != 3"
   ]
  },
  {
   "cell_type": "code",
   "execution_count": 21,
   "id": "903e465f",
   "metadata": {},
   "outputs": [
    {
     "data": {
      "text/plain": [
       "True"
      ]
     },
     "execution_count": 21,
     "metadata": {},
     "output_type": "execute_result"
    }
   ],
   "source": [
    "4 > 3"
   ]
  },
  {
   "cell_type": "code",
   "execution_count": 24,
   "id": "4c3263cb",
   "metadata": {},
   "outputs": [
    {
     "data": {
      "text/plain": [
       "True"
      ]
     },
     "execution_count": 24,
     "metadata": {},
     "output_type": "execute_result"
    }
   ],
   "source": [
    "x = 5\n",
    "\n",
    "x >= 2"
   ]
  },
  {
   "cell_type": "markdown",
   "id": "a7fcd8aa",
   "metadata": {},
   "source": [
    "# 4 Python stores information in different formats or types"
   ]
  },
  {
   "cell_type": "code",
   "execution_count": 45,
   "id": "bd618e01",
   "metadata": {},
   "outputs": [
    {
     "data": {
      "text/plain": [
       "float"
      ]
     },
     "execution_count": 45,
     "metadata": {},
     "output_type": "execute_result"
    }
   ],
   "source": [
    "x = 1.234\n",
    "\n",
    "type(x)"
   ]
  },
  {
   "cell_type": "code",
   "execution_count": 46,
   "id": "cca507f9",
   "metadata": {},
   "outputs": [
    {
     "data": {
      "text/plain": [
       "int"
      ]
     },
     "execution_count": 46,
     "metadata": {},
     "output_type": "execute_result"
    }
   ],
   "source": [
    "x = 1\n",
    "type(x)"
   ]
  },
  {
   "cell_type": "code",
   "execution_count": 34,
   "id": "de7e9738",
   "metadata": {},
   "outputs": [
    {
     "name": "stdout",
     "output_type": "stream",
     "text": [
      "<class 'int'>\n"
     ]
    }
   ],
   "source": [
    "x = int(1.234)\n",
    "\n",
    "\n",
    "print(type(x))"
   ]
  },
  {
   "cell_type": "code",
   "execution_count": 38,
   "id": "b14ccfc2",
   "metadata": {},
   "outputs": [
    {
     "name": "stdout",
     "output_type": "stream",
     "text": [
      "1.234\n",
      "1\n"
     ]
    }
   ],
   "source": [
    "x = 1.234        # save x as a new variable to save the changes to the change in class\n",
    "y = int(x)\n",
    "print(x)\n",
    "print(y)"
   ]
  },
  {
   "cell_type": "code",
   "execution_count": 43,
   "id": "684a7a54",
   "metadata": {},
   "outputs": [
    {
     "name": "stdout",
     "output_type": "stream",
     "text": [
      "1.234\n"
     ]
    },
    {
     "ename": "TypeError",
     "evalue": "can only concatenate str (not \"int\") to str",
     "output_type": "error",
     "traceback": [
      "\u001b[0;31m---------------------------------------------------------------------------\u001b[0m",
      "\u001b[0;31mTypeError\u001b[0m                                 Traceback (most recent call last)",
      "Cell \u001b[0;32mIn[43], line 3\u001b[0m\n\u001b[1;32m      1\u001b[0m x \u001b[38;5;241m=\u001b[39m \u001b[38;5;28mstr\u001b[39m(\u001b[38;5;241m1.234\u001b[39m)\n\u001b[1;32m      2\u001b[0m \u001b[38;5;28mprint\u001b[39m(x)\n\u001b[0;32m----> 3\u001b[0m x \u001b[38;5;241m+\u001b[39m\u001b[38;5;241m=\u001b[39m \u001b[38;5;241m1\u001b[39m\n\u001b[1;32m      4\u001b[0m \u001b[38;5;28mprint\u001b[39m(x)\n",
      "\u001b[0;31mTypeError\u001b[0m: can only concatenate str (not \"int\") to str"
     ]
    }
   ],
   "source": [
    "x = str(1.234)\n",
    "print(x)\n",
    "x += 1\n",
    "print(x)"
   ]
  },
  {
   "cell_type": "code",
   "execution_count": 44,
   "id": "f4558d78",
   "metadata": {},
   "outputs": [
    {
     "name": "stdout",
     "output_type": "stream",
     "text": [
      "2.234\n"
     ]
    }
   ],
   "source": [
    "x = 1.234\n",
    "x += 1\n",
    "print(x)"
   ]
  },
  {
   "cell_type": "markdown",
   "id": "6c9f99d8",
   "metadata": {},
   "source": [
    "# 5 Never compare floats directly"
   ]
  },
  {
   "cell_type": "code",
   "execution_count": 49,
   "id": "84c697ea",
   "metadata": {},
   "outputs": [
    {
     "name": "stdout",
     "output_type": "stream",
     "text": [
      "0.30000000000000004\n"
     ]
    }
   ],
   "source": [
    "a = 0.1\n",
    "a3 = 0.3\n",
    "a * 3 == a3\n",
    "print(a*3)"
   ]
  },
  {
   "cell_type": "code",
   "execution_count": 50,
   "id": "d48d756f",
   "metadata": {},
   "outputs": [
    {
     "data": {
      "text/plain": [
       "True"
      ]
     },
     "execution_count": 50,
     "metadata": {},
     "output_type": "execute_result"
    }
   ],
   "source": [
    "import numpy as np           #tests if the two values are close to one another \n",
    "np.isclose(a*3,a3)"
   ]
  },
  {
   "cell_type": "code",
   "execution_count": 51,
   "id": "8227fe32",
   "metadata": {},
   "outputs": [
    {
     "data": {
      "text/plain": [
       "True"
      ]
     },
     "execution_count": 51,
     "metadata": {},
     "output_type": "execute_result"
    }
   ],
   "source": [
    "eps = 1E-10\n",
    "abs((a*3)-a3) < eps"
   ]
  },
  {
   "cell_type": "markdown",
   "id": "8b1892b4",
   "metadata": {},
   "source": [
    "## 5.1 The Problem"
   ]
  },
  {
   "cell_type": "markdown",
   "id": "dc0436a9",
   "metadata": {},
   "source": [
    "## 5.2 A solution"
   ]
  },
  {
   "cell_type": "markdown",
   "id": "6e0a648e",
   "metadata": {},
   "source": [
    "# 6 Combining English and variables"
   ]
  },
  {
   "cell_type": "code",
   "execution_count": 59,
   "id": "e2256daa",
   "metadata": {},
   "outputs": [
    {
     "name": "stdout",
     "output_type": "stream",
     "text": [
      "What is your name\n",
      "batman\n",
      "Hello batman\n"
     ]
    }
   ],
   "source": [
    "name = input(\"What is your name\\n\")\n",
    "print(f\"Hello {name}\")"
   ]
  },
  {
   "cell_type": "code",
   "execution_count": 61,
   "id": "ef72535f",
   "metadata": {},
   "outputs": [
    {
     "name": "stdout",
     "output_type": "stream",
     "text": [
      "What is your name\n",
      "batman\n",
      "Hello BATMAN!\n"
     ]
    }
   ],
   "source": [
    "name = input(\"What is your name\\n\")\n",
    "print(f\"Hello {name.upper()}!\")"
   ]
  },
  {
   "cell_type": "code",
   "execution_count": 64,
   "id": "64e06b07",
   "metadata": {},
   "outputs": [
    {
     "name": "stdout",
     "output_type": "stream",
     "text": [
      "what is your name\n",
      "batman\n",
      "How old are you\n",
      "12\n",
      "Hello batman, you are 12 this year\n"
     ]
    }
   ],
   "source": [
    "name = input (\"what is your name\\n\")\n",
    "age = int(input(\"How old are you\\n\"))\n",
    "\n",
    "print(f\"Hello {name}, you are {age} this year\")"
   ]
  },
  {
   "cell_type": "markdown",
   "id": "5149897a",
   "metadata": {},
   "source": [
    "## 6.1 Structure of f-strings"
   ]
  },
  {
   "cell_type": "code",
   "execution_count": 71,
   "id": "07de44eb",
   "metadata": {},
   "outputs": [
    {
     "name": "stdout",
     "output_type": "stream",
     "text": [
      "         Hello world!         \n"
     ]
    }
   ],
   "source": [
    "text = \"Hello world!\"          #align centre by 30 characters\n",
    "print(f\"{text:^30}\")"
   ]
  },
  {
   "cell_type": "code",
   "execution_count": 72,
   "id": "d4891d06",
   "metadata": {},
   "outputs": [
    {
     "name": "stdout",
     "output_type": "stream",
     "text": [
      "                        Hello world!                        \n"
     ]
    }
   ],
   "source": [
    "text = \"Hello world!\"\n",
    "print(f\"{text:^60}\")"
   ]
  },
  {
   "cell_type": "code",
   "execution_count": 75,
   "id": "8c94d0dd",
   "metadata": {},
   "outputs": [
    {
     "name": "stdout",
     "output_type": "stream",
     "text": [
      "                                                Hello world!\n"
     ]
    }
   ],
   "source": [
    "print(f\"{text:>60}\")           #align right by 60 characters"
   ]
  },
  {
   "cell_type": "code",
   "execution_count": 78,
   "id": "f363f593",
   "metadata": {},
   "outputs": [
    {
     "name": "stdout",
     "output_type": "stream",
     "text": [
      "Hello world!                                                \n"
     ]
    }
   ],
   "source": [
    "print(f\"{text:<60}\")          #align left by 60 characters"
   ]
  },
  {
   "cell_type": "code",
   "execution_count": 80,
   "id": "a7c7d1ec",
   "metadata": {},
   "outputs": [
    {
     "name": "stdout",
     "output_type": "stream",
     "text": [
      "The cube of pi is 31.006277\n"
     ]
    }
   ],
   "source": [
    "print(f\"The cube of pi is {np.pi**3:.6f}\")   #round off to 6dp"
   ]
  },
  {
   "cell_type": "code",
   "execution_count": 82,
   "id": "753e7ead",
   "metadata": {},
   "outputs": [
    {
     "name": "stdout",
     "output_type": "stream",
     "text": [
      "The cube of pi is 3.100628e+01\n"
     ]
    }
   ],
   "source": [
    "print(f\"The cube of pi is {np.pi**3:.6e}\")"
   ]
  },
  {
   "cell_type": "markdown",
   "id": "71b01339",
   "metadata": {},
   "source": [
    "# 7 Escape sequences"
   ]
  },
  {
   "cell_type": "code",
   "execution_count": 83,
   "id": "6cf3b5c1",
   "metadata": {},
   "outputs": [
    {
     "name": "stdout",
     "output_type": "stream",
     "text": [
      "A\\B\\C\n"
     ]
    }
   ],
   "source": [
    "print(\"A\\B\\C\")"
   ]
  },
  {
   "cell_type": "code",
   "execution_count": 89,
   "id": "016d23b1",
   "metadata": {},
   "outputs": [
    {
     "name": "stdout",
     "output_type": "stream",
     "text": [
      "A\\B\\C\n"
     ]
    }
   ],
   "source": [
    "print(\"A\\\\B\\\\C\")"
   ]
  },
  {
   "cell_type": "code",
   "execution_count": 94,
   "id": "9222b191",
   "metadata": {},
   "outputs": [
    {
     "name": "stdout",
     "output_type": "stream",
     "text": [
      "A\tB\tC\n"
     ]
    }
   ],
   "source": [
    "print(\"A\\tB\\tC\")"
   ]
  },
  {
   "cell_type": "code",
   "execution_count": 93,
   "id": "176a6c62",
   "metadata": {},
   "outputs": [
    {
     "name": "stdout",
     "output_type": "stream",
     "text": [
      "which year are you in\n",
      "2\n",
      "Which sem are you currently in?\n",
      "1\n",
      "you\\`re left with 5 semesters\n"
     ]
    }
   ],
   "source": [
    "year=int(input(\"which year are you in\\n\"))\n",
    "sem = int(input(\"Which sem are you currently in?\\n\"))\n",
    "\n",
    "if year == 1:\n",
    "    time_in_sch = sem\n",
    "else:\n",
    "    time_in_sch = (year-1)*2 + sem\n",
    "\n",
    "print(f\"you\\`re left with {8-time_in_sch} semesters\")"
   ]
  },
  {
   "cell_type": "markdown",
   "id": "fcd6ce32",
   "metadata": {},
   "source": [
    "# 8 Computers read = from Right to Left!"
   ]
  },
  {
   "cell_type": "code",
   "execution_count": 95,
   "id": "4beb5b8d",
   "metadata": {},
   "outputs": [
    {
     "name": "stdout",
     "output_type": "stream",
     "text": [
      "42\n"
     ]
    }
   ],
   "source": [
    "y = 40\n",
    "y = y+2\n",
    "print(y)"
   ]
  },
  {
   "cell_type": "markdown",
   "id": "389cab85",
   "metadata": {},
   "source": [
    "# 9 Shorter and Cleaner Code"
   ]
  },
  {
   "cell_type": "code",
   "execution_count": 97,
   "id": "62c3f6e1",
   "metadata": {},
   "outputs": [
    {
     "name": "stdout",
     "output_type": "stream",
     "text": [
      "42\n"
     ]
    }
   ],
   "source": [
    "y = 40\n",
    "y = y+2\n",
    "print(y)"
   ]
  },
  {
   "cell_type": "code",
   "execution_count": 98,
   "id": "49ab749c",
   "metadata": {},
   "outputs": [
    {
     "name": "stdout",
     "output_type": "stream",
     "text": [
      "42\n"
     ]
    }
   ],
   "source": [
    "y = 40\n",
    "y += 2\n",
    "print(y)"
   ]
  },
  {
   "cell_type": "markdown",
   "id": "4fc6352f",
   "metadata": {},
   "source": [
    "# 10 Python can be a prima-donna."
   ]
  },
  {
   "cell_type": "markdown",
   "id": "9466a18e",
   "metadata": {},
   "source": [
    "# 11 Best Practices for Scientific Computing"
   ]
  },
  {
   "cell_type": "markdown",
   "id": "f6e50def",
   "metadata": {},
   "source": [
    "# 12 Looking for help"
   ]
  },
  {
   "cell_type": "code",
   "execution_count": 99,
   "id": "8cd977a8",
   "metadata": {},
   "outputs": [
    {
     "name": "stdout",
     "output_type": "stream",
     "text": [
      "Help on built-in function print in module builtins:\n",
      "\n",
      "print(*args, sep=' ', end='\\n', file=None, flush=False)\n",
      "    Prints the values to a stream, or to sys.stdout by default.\n",
      "    \n",
      "    sep\n",
      "      string inserted between values, default a space.\n",
      "    end\n",
      "      string appended after the last value, default a newline.\n",
      "    file\n",
      "      a file-like object (stream); defaults to the current sys.stdout.\n",
      "    flush\n",
      "      whether to forcibly flush the stream.\n",
      "\n"
     ]
    }
   ],
   "source": [
    "help(print)"
   ]
  },
  {
   "cell_type": "markdown",
   "id": "3ba00c39",
   "metadata": {},
   "source": [
    "## References"
   ]
  },
  {
   "cell_type": "markdown",
   "id": "9a021665",
   "metadata": {},
   "source": [
    "## Footnotes"
   ]
  }
 ],
 "metadata": {
  "kernelspec": {
   "display_name": "Python 3 (ipykernel)",
   "language": "python",
   "name": "python3"
  },
  "language_info": {
   "codemirror_mode": {
    "name": "ipython",
    "version": 3
   },
   "file_extension": ".py",
   "mimetype": "text/x-python",
   "name": "python",
   "nbconvert_exporter": "python",
   "pygments_lexer": "ipython3",
   "version": "3.11.5"
  },
  "toc": {
   "base_numbering": 1,
   "nav_menu": {},
   "number_sections": true,
   "sideBar": true,
   "skip_h1_title": false,
   "title_cell": "Table of Contents",
   "title_sidebar": "Contents",
   "toc_cell": false,
   "toc_position": {},
   "toc_section_display": true,
   "toc_window_display": false
  },
  "varInspector": {
   "cols": {
    "lenName": 16,
    "lenType": 16,
    "lenVar": 40
   },
   "kernels_config": {
    "python": {
     "delete_cmd_postfix": "",
     "delete_cmd_prefix": "del ",
     "library": "var_list.py",
     "varRefreshCmd": "print(var_dic_list())"
    },
    "r": {
     "delete_cmd_postfix": ") ",
     "delete_cmd_prefix": "rm(",
     "library": "var_list.r",
     "varRefreshCmd": "cat(var_dic_list()) "
    }
   },
   "types_to_exclude": [
    "module",
    "function",
    "builtin_function_or_method",
    "instance",
    "_Feature"
   ],
   "window_display": false
  },
  "vscode": {
   "interpreter": {
    "hash": "31f2aee4e71d21fbe5cf8b01ff0e069b9275f58929596ceb00d14d90e3e16cd6"
   }
  }
 },
 "nbformat": 4,
 "nbformat_minor": 5
}
