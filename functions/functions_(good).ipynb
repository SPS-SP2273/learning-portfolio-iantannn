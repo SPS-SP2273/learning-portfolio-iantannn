{
 "cells": [
  {
   "cell_type": "markdown",
   "id": "123456",
   "metadata": {},
   "source": [
    "<div style=\"text-align:left;font-size:2em\"><span style=\"font-weight:bolder;font-size:1.25em\">SP2273 | Learning Portfolio</span><br><br><span style=\"font-weight:bold;color:darkred\">Functions (Good)</span></div>"
   ]
  },
  {
   "cell_type": "markdown",
   "id": "62ea81f3",
   "metadata": {},
   "source": [
    "# What to expect in this chapter"
   ]
  },
  {
   "cell_type": "markdown",
   "id": "6475002f",
   "metadata": {},
   "source": [
    "# 1 Checks, balances, and contingencies"
   ]
  },
  {
   "cell_type": "markdown",
   "id": "3228498a",
   "metadata": {},
   "source": [
    "## 1.1 assert"
   ]
  },
  {
   "cell_type": "code",
   "execution_count": 5,
   "id": "17399004",
   "metadata": {
    "scrolled": true
   },
   "outputs": [
    {
     "name": "stdout",
     "output_type": "stream",
     "text": [
      "What is your score -123\n"
     ]
    },
    {
     "ename": "AssertionError",
     "evalue": "Score cannot be negative",
     "output_type": "error",
     "traceback": [
      "\u001b[0;31m---------------------------------------------------------------------------\u001b[0m",
      "\u001b[0;31mAssertionError\u001b[0m                            Traceback (most recent call last)",
      "Cell \u001b[0;32mIn[5], line 3\u001b[0m\n\u001b[1;32m      1\u001b[0m results \u001b[38;5;241m=\u001b[39m \u001b[38;5;28mint\u001b[39m(\u001b[38;5;28minput\u001b[39m(\u001b[38;5;124m\"\u001b[39m\u001b[38;5;124mWhat is your score \u001b[39m\u001b[38;5;124m\"\u001b[39m))\n\u001b[0;32m----> 3\u001b[0m \u001b[38;5;28;01massert\u001b[39;00m results \u001b[38;5;241m>\u001b[39m \u001b[38;5;241m0\u001b[39m, \u001b[38;5;124m\"\u001b[39m\u001b[38;5;124mScore cannot be negative\u001b[39m\u001b[38;5;124m\"\u001b[39m\n",
      "\u001b[0;31mAssertionError\u001b[0m: Score cannot be negative"
     ]
    }
   ],
   "source": [
    "#make your own error essentially\n",
    "results = int(input(\"What is your score \"))\n",
    "\n",
    "assert results > 0, \"Score cannot be negative\""
   ]
  },
  {
   "cell_type": "markdown",
   "id": "2f1468ff",
   "metadata": {},
   "source": [
    "## 1.2 try-except"
   ]
  },
  {
   "cell_type": "code",
   "execution_count": 1,
   "id": "b1a448bb",
   "metadata": {},
   "outputs": [
    {
     "name": "stdout",
     "output_type": "stream",
     "text": [
      "Choose a number32\n",
      "The square of 32 is 1024\n"
     ]
    }
   ],
   "source": [
    "number = int(input(\"Choose a number\"))\n",
    "square = number**2\n",
    "print(f\"The square of {number} is {square}\")"
   ]
  },
  {
   "cell_type": "code",
   "execution_count": 1,
   "id": "d304b56c",
   "metadata": {},
   "outputs": [
    {
     "name": "stdout",
     "output_type": "stream",
     "text": [
      "Choose a number wesfa\n"
     ]
    },
    {
     "ename": "NameError",
     "evalue": "name 'number' is not defined",
     "output_type": "error",
     "traceback": [
      "\u001b[0;31m---------------------------------------------------------------------------\u001b[0m",
      "\u001b[0;31mValueError\u001b[0m                                Traceback (most recent call last)",
      "Cell \u001b[0;32mIn[1], line 2\u001b[0m\n\u001b[1;32m      1\u001b[0m \u001b[38;5;28;01mtry\u001b[39;00m:\n\u001b[0;32m----> 2\u001b[0m     number \u001b[38;5;241m=\u001b[39m \u001b[38;5;28mint\u001b[39m(\u001b[38;5;28minput\u001b[39m(\u001b[38;5;124m\"\u001b[39m\u001b[38;5;124mChoose a number \u001b[39m\u001b[38;5;124m\"\u001b[39m))\n\u001b[1;32m      3\u001b[0m     square \u001b[38;5;241m=\u001b[39m number\u001b[38;5;241m*\u001b[39m\u001b[38;5;241m*\u001b[39m\u001b[38;5;241m2\u001b[39m\n",
      "\u001b[0;31mValueError\u001b[0m: invalid literal for int() with base 10: 'wesfa'",
      "\nDuring handling of the above exception, another exception occurred:\n",
      "\u001b[0;31mNameError\u001b[0m                                 Traceback (most recent call last)",
      "Cell \u001b[0;32mIn[1], line 6\u001b[0m\n\u001b[1;32m      4\u001b[0m     \u001b[38;5;28mprint\u001b[39m(\u001b[38;5;124mf\u001b[39m\u001b[38;5;124m\"\u001b[39m\u001b[38;5;124mThe square of \u001b[39m\u001b[38;5;132;01m{\u001b[39;00mnumber\u001b[38;5;132;01m}\u001b[39;00m\u001b[38;5;124m is \u001b[39m\u001b[38;5;132;01m{\u001b[39;00msquare\u001b[38;5;132;01m}\u001b[39;00m\u001b[38;5;124m\"\u001b[39m)\n\u001b[1;32m      5\u001b[0m \u001b[38;5;28;01mexcept\u001b[39;00m:\n\u001b[0;32m----> 6\u001b[0m     \u001b[38;5;28mprint\u001b[39m(\u001b[38;5;124mf\u001b[39m\u001b[38;5;124m\"\u001b[39m\u001b[38;5;124mI cannot square \u001b[39m\u001b[38;5;132;01m{\u001b[39;00mnumber\u001b[38;5;132;01m}\u001b[39;00m\u001b[38;5;124m\"\u001b[39m)\n",
      "\u001b[0;31mNameError\u001b[0m: name 'number' is not defined"
     ]
    }
   ],
   "source": [
    "#Number is not assigned a variable due to value error\n",
    "#when attempting to convert the variable to int\n",
    "try:\n",
    "    number = int(input(\"Choose a number \"))\n",
    "    square = number**2\n",
    "    print(f\"The square of {number} is {square}\")\n",
    "except:\n",
    "    print(f\"I cannot square {number}\")"
   ]
  },
  {
   "cell_type": "code",
   "execution_count": 3,
   "id": "6cc33ed6",
   "metadata": {},
   "outputs": [
    {
     "name": "stdout",
     "output_type": "stream",
     "text": [
      "Choose a number ewe\n",
      "I cannot square ewe\n"
     ]
    }
   ],
   "source": [
    "#The variable \"number\" must be assigned a value at least\n",
    "#for the except block to have an output\n",
    "\n",
    "try:\n",
    "    number = input(\"Choose a number \")\n",
    "    square = int(number)**2\n",
    "    print(f\"The square of {number} is {square}\")\n",
    "except:\n",
    "    print(f\"I cannot square {number}\")"
   ]
  },
  {
   "cell_type": "markdown",
   "id": "51d8c90f",
   "metadata": {},
   "source": [
    "## 1.3 A simple suggestion"
   ]
  },
  {
   "cell_type": "markdown",
   "id": "7abda1b2",
   "metadata": {},
   "source": [
    "# 2 Some loose ends"
   ]
  },
  {
   "cell_type": "markdown",
   "id": "a4cc5f46",
   "metadata": {},
   "source": [
    "## 2.1 Positional, keyword and default arguments"
   ]
  },
  {
   "cell_type": "code",
   "execution_count": 9,
   "id": "3e0ed7b7",
   "metadata": {},
   "outputs": [],
   "source": [
    "def side_by_side(a,b,c=42):\n",
    "    return f\"{a}|{b}|{c}\""
   ]
  },
  {
   "cell_type": "markdown",
   "id": "eb155b2b",
   "metadata": {},
   "source": [
    "### Positional"
   ]
  },
  {
   "cell_type": "code",
   "execution_count": 10,
   "id": "a3ff6086",
   "metadata": {},
   "outputs": [
    {
     "data": {
      "text/plain": [
       "'1|2|3'"
      ]
     },
     "execution_count": 10,
     "metadata": {},
     "output_type": "execute_result"
    }
   ],
   "source": [
    "side_by_side(1,2,3)\n",
    "#a=1, b=2, c=3 based on the position of the inputs"
   ]
  },
  {
   "cell_type": "markdown",
   "id": "0b7e6eb1",
   "metadata": {},
   "source": [
    "### Keywords"
   ]
  },
  {
   "cell_type": "code",
   "execution_count": 11,
   "id": "03d02542",
   "metadata": {},
   "outputs": [
    {
     "data": {
      "text/plain": [
       "'3|2|1'"
      ]
     },
     "execution_count": 11,
     "metadata": {},
     "output_type": "execute_result"
    }
   ],
   "source": [
    "side_by_side(c=1, b =2, a = 3)\n",
    "#specify the value of a, b and c"
   ]
  },
  {
   "cell_type": "markdown",
   "id": "65f68071",
   "metadata": {},
   "source": [
    "### Default"
   ]
  },
  {
   "cell_type": "code",
   "execution_count": 14,
   "id": "d910b399",
   "metadata": {},
   "outputs": [
    {
     "data": {
      "text/plain": [
       "'4|5|42'"
      ]
     },
     "execution_count": 14,
     "metadata": {},
     "output_type": "execute_result"
    }
   ],
   "source": [
    "side_by_side(4,b=5)\n",
    "#c will always be default 42 if not defined"
   ]
  },
  {
   "cell_type": "markdown",
   "id": "a92dbd9d",
   "metadata": {},
   "source": [
    "## 2.2 Docstrings"
   ]
  },
  {
   "cell_type": "code",
   "execution_count": 16,
   "id": "db7e894c",
   "metadata": {},
   "outputs": [],
   "source": [
    "def side_by_side(a,b,c=42):\n",
    "    '''\n",
    "    this is just like the comment feature but\n",
    "    for functions, to explain what it does\n",
    "    '''\n",
    "    return f\"{a}|{b}|{c}\""
   ]
  },
  {
   "cell_type": "code",
   "execution_count": 17,
   "id": "9a7030fe",
   "metadata": {},
   "outputs": [
    {
     "name": "stdout",
     "output_type": "stream",
     "text": [
      "Help on function side_by_side in module __main__:\n",
      "\n",
      "side_by_side(a, b, c=42)\n",
      "    this is just like the comment feature but\n",
      "    for functions\n",
      "\n"
     ]
    }
   ],
   "source": [
    "help(side_by_side)"
   ]
  },
  {
   "cell_type": "markdown",
   "id": "3cc2422d",
   "metadata": {},
   "source": [
    "## 2.3 Function are first-class citizens"
   ]
  },
  {
   "cell_type": "code",
   "execution_count": 20,
   "id": "5b165b35",
   "metadata": {},
   "outputs": [
    {
     "name": "stdout",
     "output_type": "stream",
     "text": [
      "1.0\n",
      "6.123233995736766e-17\n",
      "-1.0\n"
     ]
    }
   ],
   "source": [
    "import numpy as np\n",
    "\n",
    "def my_function(angle, trig_function):\n",
    "    return trig_function(angle)\n",
    "\n",
    "print(my_function(np.pi/2, np.sin))\n",
    "print(my_function(np.pi/2, np.cos))\n",
    "print(my_function(np.pi/2, lambda x: np.cos(2*x)))\n"
   ]
  },
  {
   "cell_type": "code",
   "execution_count": 1,
   "id": "e61ef3b3",
   "metadata": {},
   "outputs": [
    {
     "name": "stdout",
     "output_type": "stream",
     "text": [
      "1.0\n"
     ]
    }
   ],
   "source": [
    "import numpy as np\n",
    "\n",
    "sin = lambda x: np.sin(x)\n",
    "cos = lambda x: np.cos(x)\n",
    "tan = lambda x: np.tan(x)\n",
    "\n",
    "def trig(angle, trig_function):\n",
    "    return trig_function(angle)\n",
    "\n",
    "print(trig(np.pi/2,sin))"
   ]
  },
  {
   "cell_type": "markdown",
   "id": "49589cd1",
   "metadata": {},
   "source": [
    "## 2.4 More about unpacking"
   ]
  },
  {
   "cell_type": "code",
   "execution_count": 2,
   "id": "f53815eb",
   "metadata": {},
   "outputs": [
    {
     "name": "stdout",
     "output_type": "stream",
     "text": [
      "1 2 3\n"
     ]
    }
   ],
   "source": [
    "x, y, z = [1,2,3]\n",
    "print(x,y,z)"
   ]
  },
  {
   "cell_type": "code",
   "execution_count": 4,
   "id": "15a58af3",
   "metadata": {},
   "outputs": [
    {
     "data": {
      "text/plain": [
       "(1, 2, 3)"
      ]
     },
     "execution_count": 4,
     "metadata": {},
     "output_type": "execute_result"
    }
   ],
   "source": [
    "x,y,z = np.array([1,2,3])\n",
    "x,y,z"
   ]
  },
  {
   "cell_type": "code",
   "execution_count": 5,
   "id": "dbdc32e1",
   "metadata": {},
   "outputs": [
    {
     "data": {
      "text/plain": [
       "(1, [2, 3, 4], 5)"
      ]
     },
     "execution_count": 5,
     "metadata": {},
     "output_type": "execute_result"
    }
   ],
   "source": [
    "x, *y, z = np.array([1,2,3,4,5])\n",
    "x,y,z\n",
    "#assigns values to x and z, the remaining as y"
   ]
  },
  {
   "cell_type": "code",
   "execution_count": 7,
   "id": "6d54430f",
   "metadata": {},
   "outputs": [
    {
     "ename": "SyntaxError",
     "evalue": "multiple starred expressions in assignment (2985711372.py, line 2)",
     "output_type": "error",
     "traceback": [
      "\u001b[0;36m  Cell \u001b[0;32mIn[7], line 2\u001b[0;36m\u001b[0m\n\u001b[0;31m    w,*x, *y, z = np.array([1,2,3,4,5])\u001b[0m\n\u001b[0m    ^\u001b[0m\n\u001b[0;31mSyntaxError\u001b[0m\u001b[0;31m:\u001b[0m multiple starred expressions in assignment\n"
     ]
    }
   ],
   "source": [
    "#multiple * values not allowed in python\n",
    "w,*x, *y, z = np.array([1,2,3,4,5])"
   ]
  },
  {
   "cell_type": "code",
   "execution_count": 9,
   "id": "d29b0f07",
   "metadata": {},
   "outputs": [
    {
     "name": "stdout",
     "output_type": "stream",
     "text": [
      "1 5\n"
     ]
    }
   ],
   "source": [
    "x, *_, y = [1, 2, 3, 4, 5]\n",
    "print(x,y)\n",
    "#*_ takes 2,3,4 and are discarded"
   ]
  }
 ],
 "metadata": {
  "kernelspec": {
   "display_name": "Python 3 (ipykernel)",
   "language": "python",
   "name": "python3"
  },
  "language_info": {
   "codemirror_mode": {
    "name": "ipython",
    "version": 3
   },
   "file_extension": ".py",
   "mimetype": "text/x-python",
   "name": "python",
   "nbconvert_exporter": "python",
   "pygments_lexer": "ipython3",
   "version": "3.11.5"
  },
  "toc": {
   "base_numbering": 1,
   "nav_menu": {},
   "number_sections": true,
   "sideBar": true,
   "skip_h1_title": false,
   "title_cell": "Table of Contents",
   "title_sidebar": "Contents",
   "toc_cell": false,
   "toc_position": {},
   "toc_section_display": true,
   "toc_window_display": false
  },
  "varInspector": {
   "cols": {
    "lenName": 16,
    "lenType": 16,
    "lenVar": 40
   },
   "kernels_config": {
    "python": {
     "delete_cmd_postfix": "",
     "delete_cmd_prefix": "del ",
     "library": "var_list.py",
     "varRefreshCmd": "print(var_dic_list())"
    },
    "r": {
     "delete_cmd_postfix": ") ",
     "delete_cmd_prefix": "rm(",
     "library": "var_list.r",
     "varRefreshCmd": "cat(var_dic_list()) "
    }
   },
   "types_to_exclude": [
    "module",
    "function",
    "builtin_function_or_method",
    "instance",
    "_Feature"
   ],
   "window_display": false
  },
  "vscode": {
   "interpreter": {
    "hash": "31f2aee4e71d21fbe5cf8b01ff0e069b9275f58929596ceb00d14d90e3e16cd6"
   }
  }
 },
 "nbformat": 4,
 "nbformat_minor": 5
}
