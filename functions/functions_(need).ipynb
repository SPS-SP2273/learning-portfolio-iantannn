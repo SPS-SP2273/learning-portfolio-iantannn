{
 "cells": [
  {
   "cell_type": "markdown",
   "id": "123456",
   "metadata": {},
   "source": [
    "<div style=\"text-align:left;font-size:2em\"><span style=\"font-weight:bolder;font-size:1.25em\">SP2273 | Learning Portfolio</span><br><br><span style=\"font-weight:bold;color:darkred\">Functions (Need)</span></div>"
   ]
  },
  {
   "cell_type": "markdown",
   "id": "83c7ecf7",
   "metadata": {},
   "source": [
    "# What to expect in this chapter"
   ]
  },
  {
   "cell_type": "markdown",
   "id": "3056f66c",
   "metadata": {},
   "source": [
    "# 1 User-defined functions"
   ]
  },
  {
   "cell_type": "markdown",
   "id": "75bc12ef",
   "metadata": {},
   "source": [
    "## 1.1 Named Functions"
   ]
  },
  {
   "cell_type": "markdown",
   "id": "21fb778f",
   "metadata": {},
   "source": [
    "### Named functions that return"
   ]
  },
  {
   "cell_type": "code",
   "execution_count": 4,
   "id": "08aafb1d",
   "metadata": {},
   "outputs": [
    {
     "name": "stdout",
     "output_type": "stream",
     "text": [
      "What is your nametest \n"
     ]
    },
    {
     "data": {
      "text/plain": [
       "'Hello test !'"
      ]
     },
     "execution_count": 4,
     "metadata": {},
     "output_type": "execute_result"
    }
   ],
   "source": [
    "name = input(\"What is your name\")                    #Variable name is defined by what user inputs\n",
    "def greeting(name):                                  #define the function greeting()\n",
    "    if name == \"Batman\":                             #function checks if the name input is \"Batman\"\n",
    "        return \"Hello Batman! So nice to meet you!\"  #If name is batman, return greeting\n",
    "    else:                                            #If other name it returns hello\"name\"\n",
    "        return f\"Hello {name}!\"\n",
    "    # Your code here\n",
    "greeting(name)                                       #Performs the function \"greeting\" on the variable name"
   ]
  },
  {
   "cell_type": "code",
   "execution_count": null,
   "id": "69f7ded0",
   "metadata": {},
   "outputs": [],
   "source": [
    "name = input(\"What is your name\")                    #Variable name is defined by what user inputs\n",
    "def greeting(name):                                  #define the function greeting()\n",
    "    if name == \"Batman\":                             #function checks if the name input is \"Batman\"\n",
    "        return \"Hello Batman! So nice to meet you!\"  #If name is batman, return greeting and stop the function\n",
    "    else:                                            #If other name it returns hello\"name\" and stop the function\n",
    "        return f\"Hello {name}!\"\n",
    "    # Your code here\n",
    "greeting(name)                                       #Performs the function \"greeting\" on the variable name"
   ]
  },
  {
   "cell_type": "code",
   "execution_count": null,
   "id": "b49bd7d5",
   "metadata": {},
   "outputs": [],
   "source": [
    "import numpy as np\n",
    "\n",
    "#empty list\n",
    "numbers=[]\n",
    "#While loop to generate a list, that stops when there are more than or equal to 5 numbers\n",
    "while len(numbers) < 5:\n",
    "    data = input(\"Choose a number \")\n",
    "    #Add the data that was input in the list \"numbers\", and convert to an integer\n",
    "    numbers.append(int(data))\n",
    "\n",
    "\n",
    "#Define function basic_stats\n",
    "def basic_stats(numbers):\n",
    "    np_numbers = np.array(numbers)\n",
    "    my_min = np_numbers.min()\n",
    "    my_max = np_numbers.max()\n",
    "    my_mean = np_numbers.mean()\n",
    "    return my_max, my_min, my_mean\n",
    "results = basic_stats(numbers)\n",
    "\n",
    "print(f\"Max:{results[0]}, min:{results[1]}, mean:{results[2]}\")"
   ]
  },
  {
   "cell_type": "markdown",
   "id": "b7fda068",
   "metadata": {},
   "source": [
    "### Named functions that don’t return"
   ]
  },
  {
   "cell_type": "code",
   "execution_count": 9,
   "id": "87a4f003",
   "metadata": {},
   "outputs": [
    {
     "name": "stdout",
     "output_type": "stream",
     "text": [
      "What is your name? Batman\n",
      "Hello Batman.\n"
     ]
    }
   ],
   "source": [
    "name = input(\"What is your name? \")\n",
    "def greeting(test):                        #use print instead of return, such that no information is stored\n",
    "    if test == \"Batman\":\n",
    "        print(\"Hello Batman.\")\n",
    "    else:\n",
    "        print(f\"Hello {name}.\")\n",
    "\n",
    "greeting(name)\n"
   ]
  },
  {
   "cell_type": "markdown",
   "id": "c541c8ca",
   "metadata": {},
   "source": [
    "## 1.2 Anonymous functions"
   ]
  },
  {
   "cell_type": "code",
   "execution_count": null,
   "id": "6472aa16",
   "metadata": {},
   "outputs": [],
   "source": [
    "my_short_function = lambda name: f\"Hello {name}!\"\n",
    "\n",
    "name = input(\"Your name \")\n",
    "my_short_function(name)"
   ]
  },
  {
   "cell_type": "code",
   "execution_count": null,
   "id": "2a51787c",
   "metadata": {},
   "outputs": [],
   "source": [
    "numbers=[[9, 0, -10],\n",
    "         [8, 1, -11],\n",
    "         [7, 2, -12],\n",
    "         [6, 3, -13],\n",
    "         [5, 4, -14],\n",
    "         [4, 5, -15],\n",
    "         [3, 6, -16],\n",
    "         [2, 7, -17],\n",
    "         [1, 8, -18],\n",
    "         [0, 9, -19]]\n",
    "#sorts numbers in increasing order, based on element 0\n",
    "sorted(numbers)\n",
    "\n",
    "keys= lambda numbers:numbers[1]\n",
    "sorted(numbers,key=keys)\n",
    "#Key is a built-in function for the function sorted(),\"keys\" is the function"
   ]
  },
  {
   "cell_type": "code",
   "execution_count": null,
   "id": "0997a273",
   "metadata": {},
   "outputs": [],
   "source": [
    "numbers=[[9, 0, -10],\n",
    "         [8, 1, -11],\n",
    "         [7, 2, -12],\n",
    "         [6, 3, -13],\n",
    "         [5, 4, -14],\n",
    "         [4, 5, -15],\n",
    "         [3, 6, -16],\n",
    "         [2, 7, -17],\n",
    "         [1, 8, -18],\n",
    "         [0, 9, -19]]\n",
    "#function keys that recognise the argument \"numbers\" which is a variable\n",
    "keys = lambda numbers:sum(numbers)\n",
    "sorted(numbers,key=keys)\n",
    "#Key is a built-in function for the function sorted(),\"keys\" is the function"
   ]
  },
  {
   "cell_type": "code",
   "execution_count": null,
   "id": "24dd5104",
   "metadata": {},
   "outputs": [],
   "source": [
    "help(sorted)"
   ]
  },
  {
   "cell_type": "markdown",
   "id": "5fa311ab",
   "metadata": {},
   "source": [
    "## 1.3 Optional arguments"
   ]
  },
  {
   "cell_type": "code",
   "execution_count": 1,
   "id": "6f6c9732",
   "metadata": {},
   "outputs": [
    {
     "ename": "NameError",
     "evalue": "name 'name' is not defined",
     "output_type": "error",
     "traceback": [
      "\u001b[0;31m---------------------------------------------------------------------------\u001b[0m",
      "\u001b[0;31mNameError\u001b[0m                                 Traceback (most recent call last)",
      "Cell \u001b[0;32mIn[1], line 8\u001b[0m\n\u001b[1;32m      5\u001b[0m     \u001b[38;5;28;01melse\u001b[39;00m:\n\u001b[1;32m      6\u001b[0m         \u001b[38;5;28;01mreturn\u001b[39;00m \u001b[38;5;124mf\u001b[39m\u001b[38;5;124m'\u001b[39m\u001b[38;5;124mHello \u001b[39m\u001b[38;5;132;01m{\u001b[39;00mname\u001b[38;5;132;01m}\u001b[39;00m\u001b[38;5;124m!\u001b[39m\u001b[38;5;124m'\u001b[39m\n\u001b[0;32m----> 8\u001b[0m greeting()\n\u001b[1;32m      9\u001b[0m name \u001b[38;5;241m=\u001b[39m \u001b[38;5;124m\"\u001b[39m\u001b[38;5;124mman\u001b[39m\u001b[38;5;124m\"\u001b[39m\n",
      "Cell \u001b[0;32mIn[1], line 3\u001b[0m, in \u001b[0;36mgreeting\u001b[0;34m()\u001b[0m\n\u001b[1;32m      2\u001b[0m \u001b[38;5;28;01mdef\u001b[39;00m \u001b[38;5;21mgreeting\u001b[39m():\n\u001b[0;32m----> 3\u001b[0m     \u001b[38;5;28;01mif\u001b[39;00m name \u001b[38;5;241m==\u001b[39m \u001b[38;5;124m'\u001b[39m\u001b[38;5;124mBatman\u001b[39m\u001b[38;5;124m'\u001b[39m:\n\u001b[1;32m      4\u001b[0m         \u001b[38;5;28;01mreturn\u001b[39;00m \u001b[38;5;124m'\u001b[39m\u001b[38;5;124mHello Batman! So, nice to meet you!\u001b[39m\u001b[38;5;124m'\u001b[39m\n\u001b[1;32m      5\u001b[0m     \u001b[38;5;28;01melse\u001b[39;00m:\n",
      "\u001b[0;31mNameError\u001b[0m: name 'name' is not defined"
     ]
    }
   ],
   "source": [
    "#the default value for name = \"no one\"\n",
    "def greeting():\n",
    "    if name == 'Batman':\n",
    "        return 'Hello Batman! So, nice to meet you!'\n",
    "    else:\n",
    "        return f'Hello {name}!'\n",
    "\n",
    "greeting()\n",
    "name = \"man\"\n",
    "\n",
    "#python registers that when there is no argument for greeting\n",
    "#\"name\" always = \"no one\""
   ]
  },
  {
   "cell_type": "code",
   "execution_count": null,
   "id": "7abc4baf",
   "metadata": {},
   "outputs": [],
   "source": [
    "#the default value for name = \"no one\"\n",
    "def greeting():\n",
    "    if name == 'Batman':\n",
    "        return 'Hello Batman! So, nice to meet you!'\n",
    "    else:\n",
    "        return f'Hello {name}!'\n",
    "\n",
    "greeting(\"kamalini\")\n",
    "\n",
    "greeting(\"ian\")\n",
    "#python registers that when there is no argument for greeting\n",
    "#\"name\" always = \"no one\""
   ]
  },
  {
   "cell_type": "code",
   "execution_count": null,
   "id": "a15a4081",
   "metadata": {},
   "outputs": [],
   "source": [
    "#the default value for name = \"no one\"\n",
    "def greeting(name='no one'):\n",
    "    if name == 'Batman':\n",
    "        return 'Hello Batman! So, nice to meet you!'\n",
    "    else:\n",
    "        return f'Hello {name}!'\n",
    "\n",
    "name = \"Batman\"\n",
    "greeting(name)\n",
    "#name becomes the argument, where the variable \"name\" takes the value \"Batman\" now"
   ]
  },
  {
   "cell_type": "code",
   "execution_count": 2,
   "id": "20311152",
   "metadata": {},
   "outputs": [
    {
     "name": "stdout",
     "output_type": "stream",
     "text": [
      "name we\n",
      "name dfh\n",
      "name t\n",
      "name ery\n",
      "name ytu\n"
     ]
    },
    {
     "ename": "TypeError",
     "evalue": "greeting() missing 1 required positional argument: 'name_list'",
     "output_type": "error",
     "traceback": [
      "\u001b[0;31m---------------------------------------------------------------------------\u001b[0m",
      "\u001b[0;31mTypeError\u001b[0m                                 Traceback (most recent call last)",
      "Cell \u001b[0;32mIn[2], line 13\u001b[0m\n\u001b[1;32m     11\u001b[0m     \u001b[38;5;28;01melse\u001b[39;00m:\n\u001b[1;32m     12\u001b[0m         \u001b[38;5;28;01mreturn\u001b[39;00m \u001b[38;5;124mf\u001b[39m\u001b[38;5;124m\"\u001b[39m\u001b[38;5;124mhello\u001b[39m\u001b[38;5;132;01m{\u001b[39;00mname\u001b[38;5;132;01m}\u001b[39;00m\u001b[38;5;124m!\u001b[39m\u001b[38;5;124m\"\u001b[39m\n\u001b[0;32m---> 13\u001b[0m \u001b[38;5;28mprint\u001b[39m(greeting())\n",
      "\u001b[0;31mTypeError\u001b[0m: greeting() missing 1 required positional argument: 'name_list'"
     ]
    }
   ],
   "source": [
    "name_list=[]\n",
    "while len(name_list)<5:\n",
    "    data = input(\"name \")\n",
    "    name_list.append(data)\n",
    "\n",
    "#python is unable to assign a value to \"name\" when there is\n",
    "#no argument\n",
    "def greeting(name_list):\n",
    "    if name == \"Batman\":\n",
    "        return \"Hello Batman! So, nice to meet you!\"\n",
    "    else:\n",
    "        return f\"hello{name}!\"\n",
    "print(greeting())"
   ]
  },
  {
   "cell_type": "code",
   "execution_count": 7,
   "id": "650992e1",
   "metadata": {},
   "outputs": [
    {
     "name": "stdout",
     "output_type": "stream",
     "text": [
      "3\n",
      "this is x 4\n",
      "this is y None\n"
     ]
    }
   ],
   "source": [
    "def giveno1(no):\n",
    "    return no\n",
    "def giveno2(no):\n",
    "    print(no)\n",
    "x = giveno1(4)\n",
    "y = giveno2(3)\n",
    "#y prints \"no\", \"no\"=3\n",
    "\n",
    "print(f\"this is x {x}\")\n",
    "#x returns the value 4, it \"assigns\" the value 4\n",
    "print(f\"this is y {y}\")\n",
    "#y just prints \"no\" with nothing \"stored\""
   ]
  },
  {
   "cell_type": "code",
   "execution_count": null,
   "id": "8c64c900",
   "metadata": {},
   "outputs": [],
   "source": [
    "?print"
   ]
  },
  {
   "cell_type": "code",
   "execution_count": 2,
   "id": "8128dd89",
   "metadata": {},
   "outputs": [
    {
     "name": "stdout",
     "output_type": "stream",
     "text": [
      "hello world--hello\n"
     ]
    }
   ],
   "source": [
    "print(\"hello\", \"world\", end = \"--\")\n",
    "print(\"hello\")"
   ]
  },
  {
   "cell_type": "code",
   "execution_count": 1,
   "id": "8ab97471",
   "metadata": {},
   "outputs": [
    {
     "name": "stdout",
     "output_type": "stream",
     "text": [
      "hello00world\n"
     ]
    }
   ],
   "source": [
    " print(\"hello\", \"world\", sep = \"00\")"
   ]
  },
  {
   "cell_type": "markdown",
   "id": "644477ce",
   "metadata": {},
   "source": [
    "## 1.4 The importance of functions?"
   ]
  },
  {
   "cell_type": "markdown",
   "id": "88aab837",
   "metadata": {},
   "source": [
    "### An argument for functions"
   ]
  },
  {
   "cell_type": "markdown",
   "id": "f84337c5",
   "metadata": {},
   "source": [
    "Defining a function allows for codes to be continually recalled easily instead of copying the whole chunk of code that was used to define the function. This also improves the readability of the code. \n",
    "\n",
    "Should the function need to be changed, it is easier to change a single code that was used to define the function.\n",
    "\n",
    "Breaks down a complex function into individual steps that can be reused."
   ]
  },
  {
   "cell_type": "markdown",
   "id": "916b793b",
   "metadata": {},
   "source": [
    "### A word of caution"
   ]
  },
  {
   "cell_type": "markdown",
   "id": "8f142568",
   "metadata": {},
   "source": [
    "Strike a balance by avoiding putting too many arguments into the function's definition as it may reduce the readability of the code. This defeats the purpose of the code being used to make the code more readable."
   ]
  }
 ],
 "metadata": {
  "kernelspec": {
   "display_name": "Python 3 (ipykernel)",
   "language": "python",
   "name": "python3"
  },
  "language_info": {
   "codemirror_mode": {
    "name": "ipython",
    "version": 3
   },
   "file_extension": ".py",
   "mimetype": "text/x-python",
   "name": "python",
   "nbconvert_exporter": "python",
   "pygments_lexer": "ipython3",
   "version": "3.11.5"
  },
  "toc": {
   "base_numbering": 1,
   "nav_menu": {},
   "number_sections": true,
   "sideBar": true,
   "skip_h1_title": false,
   "title_cell": "Table of Contents",
   "title_sidebar": "Contents",
   "toc_cell": false,
   "toc_position": {},
   "toc_section_display": true,
   "toc_window_display": false
  },
  "varInspector": {
   "cols": {
    "lenName": 16,
    "lenType": 16,
    "lenVar": 40
   },
   "kernels_config": {
    "python": {
     "delete_cmd_postfix": "",
     "delete_cmd_prefix": "del ",
     "library": "var_list.py",
     "varRefreshCmd": "print(var_dic_list())"
    },
    "r": {
     "delete_cmd_postfix": ") ",
     "delete_cmd_prefix": "rm(",
     "library": "var_list.r",
     "varRefreshCmd": "cat(var_dic_list()) "
    }
   },
   "types_to_exclude": [
    "module",
    "function",
    "builtin_function_or_method",
    "instance",
    "_Feature"
   ],
   "window_display": false
  },
  "vscode": {
   "interpreter": {
    "hash": "31f2aee4e71d21fbe5cf8b01ff0e069b9275f58929596ceb00d14d90e3e16cd6"
   }
  }
 },
 "nbformat": 4,
 "nbformat_minor": 5
}
