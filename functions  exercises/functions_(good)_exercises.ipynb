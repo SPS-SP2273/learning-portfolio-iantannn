{
 "cells": [
  {
   "cell_type": "markdown",
   "id": "123456",
   "metadata": {},
   "source": [
    "<div style=\"text-align:left;font-size:2em\"><span style=\"font-weight:bolder;font-size:1.25em\">SP2273 | Learning Portfolio</span><br><br><span style=\"font-weight:bold;color:darkred\">Functions (Good) Exercises</span></div>"
   ]
  },
  {
   "cell_type": "markdown",
   "id": "435f3907",
   "metadata": {},
   "source": [
    "## Exercise 1"
   ]
  },
  {
   "cell_type": "code",
   "execution_count": 4,
   "id": "6334be9e",
   "metadata": {},
   "outputs": [
    {
     "name": "stdout",
     "output_type": "stream",
     "text": [
      "Key in your temperature in celsius test\n",
      "What scale would you like to convert your temperature to? test\n",
      "Your temperature input and scale is keyed in incorrectly\n",
      "Your temperature in fahrenheit is 212.00\n"
     ]
    }
   ],
   "source": [
    "#input temperature\n",
    "temperature_input = input(\"Key in your temperature in celsius \")\n",
    "#input target scale\n",
    "target_scale_input = input(\"What scale would you like to convert your temperature to? \")\n",
    "\n",
    "try:\n",
    "    #converts temperature and target scale to float and string respectively, converting all to lower case\n",
    "    temperature = float(temperature_input)\n",
    "    target_scale = target_scale_input.lower()\n",
    "except:       \n",
    "    print(\"Your temperature input and scale is keyed in incorrectly\")\n",
    "    #define function convert_fahrenheit, default celsius\n",
    "\n",
    "def convert_celsius(temperature, target_scale = \"fahrenheit\"):\n",
    "\n",
    "#check if target_scale is celsius(which is default)\n",
    "    if target_scale == \"fahrenheit\":\n",
    "        return (temperature * (9/5))+32\n",
    "\n",
    "#special condition if target_scale is kelvin\n",
    "    elif target_scale == \"kelvin\":\n",
    "        return (temperature + 273.15)\n",
    "\n",
    "temp_converted = convert_celsius(temperature)\n",
    "\n",
    "#check scale\n",
    "if target_scale == \"kelvin\":\n",
    "    print(f\"Your temperature in kelvin is {temp_converted:.2f}\")\n",
    "else:\n",
    "    print(f\"Your temperature in fahrenheit is {temp_converted:.2f}\")\n",
    "\n"
   ]
  },
  {
   "cell_type": "markdown",
   "id": "56ec6857",
   "metadata": {},
   "source": [
    "## Exercise 2"
   ]
  },
  {
   "cell_type": "code",
   "execution_count": 5,
   "id": "8bbf8ab0",
   "metadata": {},
   "outputs": [
    {
     "name": "stdout",
     "output_type": "stream",
     "text": [
      "Key in your temperature in fahrenheit test\n",
      "What scale would you like to convert your temperature to? \n",
      "Your temperature input and scale is keyed in incorrectly\n",
      "Your temperature in celsius is 37.78\n"
     ]
    }
   ],
   "source": [
    "#input temperature\n",
    "temperature_input = input(\"Key in your temperature in fahrenheit \")\n",
    "#input target scale\n",
    "target_scale_input = input(\"What scale would you like to convert your temperature to? \")\n",
    "\n",
    "try:\n",
    "    #converts temperature and target scale to float and string respectively, converting all to lower case\n",
    "    temperature = float(temperature_input)\n",
    "    target_scale = target_scale_input.lower()\n",
    "except:       \n",
    "    print(\"Your temperature input and scale is keyed in incorrectly\")\n",
    "\n",
    "    #define function convert_fahrenheit, default celcius\n",
    "def convert_fahrenheit(temperature, target_scale = \"celsius\"):\n",
    "\n",
    "#check if target_scale is celsius(which is default)\n",
    "    if target_scale == \"celsius\":\n",
    "        return (temperature - 32)*(5/9)\n",
    "\n",
    "#special condition if target_scale is kelvin\n",
    "    elif target_scale == \"kelvin\":\n",
    "        return (temperature -32)*(5/9) + 273.15\n",
    "\n",
    "temp_converted = convert_fahrenheit(temperature)\n",
    "\n",
    "#check scale\n",
    "if target_scale == \"kelvin\":\n",
    "    print(f\"Your temperature in kelvin is {temp_converted:.2f}\")\n",
    "else:\n",
    "    print(f\"Your temperature in celsius is {temp_converted:.2f}\")\n"
   ]
  },
  {
   "cell_type": "markdown",
   "id": "c9011457",
   "metadata": {},
   "source": [
    "## Exercise 3"
   ]
  },
  {
   "cell_type": "code",
   "execution_count": 6,
   "id": "923f9ade",
   "metadata": {},
   "outputs": [
    {
     "name": "stdout",
     "output_type": "stream",
     "text": [
      "Key in your temperature 100\n",
      "What scale would you like to convert your temperature to? celsius\n",
      "What scale is the temperature you want to convert to in? fahrenheit\n",
      "Your temperature in celsius is 37.78\n"
     ]
    }
   ],
   "source": [
    "#input temperature\n",
    "temperature_input = input(\"Key in your temperature \")\n",
    "#input target scale\n",
    "target_scale_input = input(\"What scale would you like to convert your temperature to? \")\n",
    "#input source scale\n",
    "source_scale_input = input(\"What scale is the temperature you want to convert to in? \")\n",
    "\n",
    "\n",
    "#converts temperature and all inputs to float and string respectively, converting all to lower case\n",
    "try:\n",
    "    temperature = float(temperature_input)\n",
    "    target_scale = target_scale_input.lower()\n",
    "    source_scale = source_scale_input.lower()\n",
    "except ValueError:\n",
    "    print(\"Your temperature input and scale is keyed in incorrectly\")\n",
    "    \n",
    "\n",
    "def convert_kelvin(temperature, target_scale = \"celsius\"):\n",
    "    \n",
    "    #check if target_scale is celsius(which is default)\n",
    "    if target_scale == \"celsius\":\n",
    "        return (temperature - 273.15)\n",
    "    \n",
    "    #special condition if target_scale is kelvin\n",
    "    elif target_scale == \"fahrenheit\":\n",
    "        return (temperature -273.15)*(9/5) + 32\n",
    " \n",
    "def convert_temperature(temperature, source_scale, target_scale):\n",
    "    if source_scale == \"celsius\":\n",
    "        return convert_celsius(temperature, target_scale)\n",
    "    elif source_scale == \"fahrenheit\":\n",
    "        return convert_fahrenheit(temperature, target_scale)\n",
    "    elif source_scale == \"kelvin\":\n",
    "        return convert_kelvin(temperature, target_scale)\n",
    "\n",
    "\n",
    "\n",
    "temp_converted = convert_temperature(temperature, source_scale, target_scale)\n",
    "\n",
    "if target_scale == \"kelvin\":\n",
    "    print(f\"Your temperature in kelvin is {temp_converted:.2f}\")\n",
    "elif target_scale == \"celsius\":\n",
    "    print(f\"Your temperature in celsius is {temp_converted:.2f}\")\n",
    "elif target_scale == \"fahrenheit\":\n",
    "    print(f\"Your temperature in fahrenheit is {temp_converted:.2f}\")\n",
    "else:\n",
    "    print(f\"Your target scale is invalid\")"
   ]
  }
 ],
 "metadata": {
  "kernelspec": {
   "display_name": "Python 3 (ipykernel)",
   "language": "python",
   "name": "python3"
  },
  "language_info": {
   "codemirror_mode": {
    "name": "ipython",
    "version": 3
   },
   "file_extension": ".py",
   "mimetype": "text/x-python",
   "name": "python",
   "nbconvert_exporter": "python",
   "pygments_lexer": "ipython3",
   "version": "3.11.5"
  },
  "toc": {
   "base_numbering": 1,
   "nav_menu": {},
   "number_sections": true,
   "sideBar": true,
   "skip_h1_title": false,
   "title_cell": "Table of Contents",
   "title_sidebar": "Contents",
   "toc_cell": false,
   "toc_position": {},
   "toc_section_display": true,
   "toc_window_display": false
  },
  "varInspector": {
   "cols": {
    "lenName": 16,
    "lenType": 16,
    "lenVar": 40
   },
   "kernels_config": {
    "python": {
     "delete_cmd_postfix": "",
     "delete_cmd_prefix": "del ",
     "library": "var_list.py",
     "varRefreshCmd": "print(var_dic_list())"
    },
    "r": {
     "delete_cmd_postfix": ") ",
     "delete_cmd_prefix": "rm(",
     "library": "var_list.r",
     "varRefreshCmd": "cat(var_dic_list()) "
    }
   },
   "types_to_exclude": [
    "module",
    "function",
    "builtin_function_or_method",
    "instance",
    "_Feature"
   ],
   "window_display": false
  },
  "vscode": {
   "interpreter": {
    "hash": "31f2aee4e71d21fbe5cf8b01ff0e069b9275f58929596ceb00d14d90e3e16cd6"
   }
  }
 },
 "nbformat": 4,
 "nbformat_minor": 5
}
