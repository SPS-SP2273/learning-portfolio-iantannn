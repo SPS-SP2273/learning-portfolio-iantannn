{
 "cells": [
  {
   "cell_type": "markdown",
   "id": "123456",
   "metadata": {},
   "source": [
    "<div style=\"text-align:left;font-size:2em\"><span style=\"font-weight:bolder;font-size:1.25em\">SP2273 | Learning Portfolio</span><br><br><span style=\"font-weight:bold;color:darkred\">Functions (Need) Exercises</span></div>"
   ]
  },
  {
   "cell_type": "markdown",
   "id": "1daabef1",
   "metadata": {},
   "source": [
    "## Exercise 1"
   ]
  },
  {
   "cell_type": "code",
   "execution_count": 1,
   "id": "266b1f0b",
   "metadata": {},
   "outputs": [],
   "source": [
    "def greeting(name):\n",
    "    if name == 'Batman':\n",
    "        return 'Hello Batman! So, nice to meet you!'\n",
    "    return f'Hello {name}!'"
   ]
  },
  {
   "cell_type": "markdown",
   "id": "a3ce51f7",
   "metadata": {},
   "source": [
    "The function greeting can take the argument \"name\" which will be assigned by whatever input is included in the parantheses\n",
    "\n",
    "the line line:\n",
    "\n",
    "return f\"Hello{name}!\"\n",
    "\n",
    "allows for whatever value assigned to the argument \"name\" that is not the string \"Batman\" to be in the return output \"Hello {name}\""
   ]
  },
  {
   "cell_type": "markdown",
   "id": "b1523da0",
   "metadata": {},
   "source": [
    "## Exercise 2"
   ]
  },
  {
   "cell_type": "code",
   "execution_count": 2,
   "id": "b5832f5c",
   "metadata": {},
   "outputs": [
    {
     "name": "stdout",
     "output_type": "stream",
     "text": [
      "What is your weight -345\n",
      "What is your height in metres 44935\n",
      "The weight you have input is invalid as it is negative\n",
      "Your bmi is -0.00 and you are underweight.\n"
     ]
    }
   ],
   "source": [
    "#User input of height and weight\n",
    "weight_input = input(\"What is your weight \")\n",
    "height_input = input(\"What is your height in metres \")\n",
    "\n",
    "#try-except block to prevent other non numerical input\n",
    "try:\n",
    "    #convert inputs into floats for function\n",
    "    weight = float(weight_input)\n",
    "    height = float(height_input)\n",
    "#if python detects weight and height cannot be converted to floats print this msg\n",
    "except:\n",
    "    print(f\"your weight and height must both be integers\")\n",
    "#Calculate input recognise the argument height and weight\n",
    "def calculate_bmi(weight, height):\n",
    "    bmi = weight/(height**2)\n",
    "#checks what range the bmi belongs to, while rounding off bmi to 2dp\n",
    "    if bmi <= 18.5:\n",
    "        return f\"Your bmi is {bmi:.2f} and you are underweight.\"\n",
    "    elif bmi <= 24.9 > 18.5:\n",
    "        return f\"Your bmi is {bmi:.2f} and you are normal weight.\"\n",
    "    elif bmi <=29.9 >25:\n",
    "        return f\"Your bmi is {bmi:.2f} and you are overweight.\"\n",
    "    else:\n",
    "        return f\"Your bmi is {bmi:.2f} and you are obese.\"\n",
    "\n",
    "if weight <0:\n",
    "    print(f\"The weight you have input is invalid as it is negative\")\n",
    "elif height <0:\n",
    "    print(f\"The height you have input is invalid as it is negative\")\n",
    "print(calculate_bmi(weight, height))"
   ]
  },
  {
   "cell_type": "code",
   "execution_count": 3,
   "id": "9459c082",
   "metadata": {},
   "outputs": [
    {
     "name": "stdout",
     "output_type": "stream",
     "text": [
      "What is your weight 342\n",
      "What is your height in metres 435\n",
      "Your bmi is 0.00 and you are underweight.\n"
     ]
    }
   ],
   "source": [
    "#User input of height and weight\n",
    "weight_input = input(\"What is your weight \")\n",
    "height_input = input(\"What is your height in metres \")\n",
    "\n",
    "#try-except block to prevent other non numerical input\n",
    "try:\n",
    "    #convert inputs into floats for function\n",
    "    weight = float(weight_input)\n",
    "    height = float(height_input)\n",
    "    #Calculate input recognise the argument height and weight\n",
    "    def calculate_bmi(weight, height):\n",
    "        bmi = weight/(height**2)\n",
    "#checks what range the bmi belongs to, while rounding off bmi to 2dp\n",
    "        if bmi <= 18.5:\n",
    "            return f\"Your bmi is {bmi:.2f} and you are underweight.\"\n",
    "        elif bmi <=29.9 >25:\n",
    "            #order matters as it now checks for overweight first before normal weight, as the bmi calculated \n",
    "            #passes the first condition, it will not go to the next check\n",
    "            return f\"Your bmi is {bmi:.2f} and you are overweight.\"\n",
    "        elif bmi <= 24.9 > 18.5:\n",
    "            return f\"Your bmi is {bmi:.2f} and you are normal weight.\"\n",
    "        else:\n",
    "            return f\"Your bmi is {bmi:.2f} and you are obese.\"\n",
    "#if python detects weight and height cannot be converted to floats print this msg\n",
    "except:\n",
    "    print(f\"your weight and height must both be integers\")\n",
    "    \n",
    "print(calculate_bmi(weight, height))"
   ]
  }
 ],
 "metadata": {
  "kernelspec": {
   "display_name": "Python 3 (ipykernel)",
   "language": "python",
   "name": "python3"
  },
  "language_info": {
   "codemirror_mode": {
    "name": "ipython",
    "version": 3
   },
   "file_extension": ".py",
   "mimetype": "text/x-python",
   "name": "python",
   "nbconvert_exporter": "python",
   "pygments_lexer": "ipython3",
   "version": "3.11.5"
  },
  "toc": {
   "base_numbering": 1,
   "nav_menu": {},
   "number_sections": true,
   "sideBar": true,
   "skip_h1_title": false,
   "title_cell": "Table of Contents",
   "title_sidebar": "Contents",
   "toc_cell": false,
   "toc_position": {},
   "toc_section_display": true,
   "toc_window_display": false
  },
  "varInspector": {
   "cols": {
    "lenName": 16,
    "lenType": 16,
    "lenVar": 40
   },
   "kernels_config": {
    "python": {
     "delete_cmd_postfix": "",
     "delete_cmd_prefix": "del ",
     "library": "var_list.py",
     "varRefreshCmd": "print(var_dic_list())"
    },
    "r": {
     "delete_cmd_postfix": ") ",
     "delete_cmd_prefix": "rm(",
     "library": "var_list.r",
     "varRefreshCmd": "cat(var_dic_list()) "
    }
   },
   "types_to_exclude": [
    "module",
    "function",
    "builtin_function_or_method",
    "instance",
    "_Feature"
   ],
   "window_display": false
  },
  "vscode": {
   "interpreter": {
    "hash": "31f2aee4e71d21fbe5cf8b01ff0e069b9275f58929596ceb00d14d90e3e16cd6"
   }
  }
 },
 "nbformat": 4,
 "nbformat_minor": 5
}
