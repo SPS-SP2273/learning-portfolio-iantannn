{
 "cells": [
  {
   "cell_type": "markdown",
   "id": "123456",
   "metadata": {},
   "source": [
    "<div style=\"text-align:left;font-size:2em\"><span style=\"font-weight:bolder;font-size:1.25em\">SP2273 | Learning Portfolio</span><br><br><span style=\"font-weight:bold;color:darkred\">Loops (Good)</span></div>"
   ]
  },
  {
   "cell_type": "markdown",
   "id": "70476b99",
   "metadata": {},
   "source": [
    "# What to expect in this chapter"
   ]
  },
  {
   "cell_type": "markdown",
   "id": "9f62abd4",
   "metadata": {},
   "source": [
    "# 1 Interrupting the flow"
   ]
  },
  {
   "cell_type": "code",
   "execution_count": 2,
   "id": "d58dfc66",
   "metadata": {},
   "outputs": [
    {
     "name": "stdout",
     "output_type": "stream",
     "text": [
      "0 1\n",
      "1 10\n",
      "2 100\n",
      "3 1000\n",
      "4 10000\n"
     ]
    }
   ],
   "source": [
    "for power in range(5):  #Variable power takes the value 0-4\n",
    "    number = 10**power  #the variable \"number\" = 10^power\n",
    "    if number > 5000:   #If number > 5000,\n",
    "        break           #break the loop and end it\n",
    "    print(power, number)"
   ]
  },
  {
   "cell_type": "code",
   "execution_count": 3,
   "id": "cc045b65",
   "metadata": {},
   "outputs": [
    {
     "name": "stdout",
     "output_type": "stream",
     "text": [
      "0 1\n",
      "1 10\n",
      "2 100\n",
      "4 10000\n"
     ]
    }
   ],
   "source": [
    "for power in range(5):     #variable power takes value 0-4 in this loop\n",
    "    if power == 3:         #checks if power == 3\n",
    "        continue           #skip if power == 3 \n",
    "    number = 10**power     #else number^power\n",
    "    print(power, number)"
   ]
  },
  {
   "cell_type": "code",
   "execution_count": 15,
   "id": "5fdc6fad",
   "metadata": {},
   "outputs": [
    {
     "name": "stdout",
     "output_type": "stream",
     "text": [
      "[1, 3, 5, 7, 9, 11, 13, 15, 17, 19, 21, 23, 25, 27, 29, 31, 33, 35, 37, 39, 41, 43, 45, 47, 49, 51, 53, 55, 57, 59]\n",
      "there are 30 odd numbers\n"
     ]
    }
   ],
   "source": [
    "#determine the number of odd numbers from 1-60\n",
    "\n",
    "odd_numbers = []\n",
    "for number in range(61):\n",
    "    if number % 2 == 0:      #skip if number is not divisible\n",
    "        continue             #by 2\n",
    "    odd_numbers.append(number) #add that number in the list\n",
    "\n",
    "print(odd_numbers)    \n",
    "print(f\"there are {len(odd_numbers)} odd numbers\")"
   ]
  },
  {
   "cell_type": "code",
   "execution_count": 17,
   "id": "a1c718c4",
   "metadata": {},
   "outputs": [
    {
     "name": "stdout",
     "output_type": "stream",
     "text": [
      "0\n",
      "1\n",
      "2\n",
      "3\n",
      "4\n",
      "5\n"
     ]
    }
   ],
   "source": [
    "number = 0\n",
    "\n",
    "while 5 > 0:          #create an infinite loop\n",
    "    print(number)     #print the variable \"number\"\n",
    "    number += 1       #add 1 to the variable\n",
    "    if number >5:     #break the loop if number > 5\n",
    "        break"
   ]
  },
  {
   "cell_type": "markdown",
   "id": "173ceb87",
   "metadata": {},
   "source": [
    "# 2 List comprehension!"
   ]
  },
  {
   "cell_type": "markdown",
   "id": "d0c07d77",
   "metadata": {},
   "source": [
    "## 2.1 Basic syntax"
   ]
  },
  {
   "cell_type": "code",
   "execution_count": 18,
   "id": "6c05a40c",
   "metadata": {},
   "outputs": [
    {
     "data": {
      "text/plain": [
       "[0, 1, 2, 3, 4]"
      ]
     },
     "execution_count": 18,
     "metadata": {},
     "output_type": "execute_result"
    }
   ],
   "source": [
    "#create a list with number 0 to 4\n",
    "[number for number in range(5)]"
   ]
  },
  {
   "cell_type": "code",
   "execution_count": 20,
   "id": "64d96e0f",
   "metadata": {},
   "outputs": [
    {
     "data": {
      "text/plain": [
       "['watermelon',\n",
       " 'watermelon',\n",
       " 'watermelon',\n",
       " 'watermelon',\n",
       " 'watermelon',\n",
       " 'watermelon']"
      ]
     },
     "execution_count": 20,
     "metadata": {},
     "output_type": "execute_result"
    }
   ],
   "source": [
    "#works for strings too, but how do i remove the colans?\n",
    "[\"watermelon\" for watermelon in range(6)]"
   ]
  },
  {
   "cell_type": "code",
   "execution_count": 21,
   "id": "e1cec639",
   "metadata": {},
   "outputs": [
    {
     "data": {
      "text/plain": [
       "[0, 1, 4, 9, 16]"
      ]
     },
     "execution_count": 21,
     "metadata": {},
     "output_type": "execute_result"
    }
   ],
   "source": [
    "#valid for arithmetic expressions\n",
    "[number**2 for number in range(5)]"
   ]
  },
  {
   "cell_type": "markdown",
   "id": "c5e6c8db",
   "metadata": {},
   "source": [
    "## 2.2 List comprehension with conditions"
   ]
  },
  {
   "cell_type": "code",
   "execution_count": 22,
   "id": "5cdc1b8b",
   "metadata": {},
   "outputs": [
    {
     "data": {
      "text/plain": [
       "[0, 2, 4, 6, 8]"
      ]
     },
     "execution_count": 22,
     "metadata": {},
     "output_type": "execute_result"
    }
   ],
   "source": [
    "#a list containing numbers range 1-10, if there is no\n",
    "#remainders when divided by 2\n",
    "[number for number in range(10)if number % 2 ==0]"
   ]
  },
  {
   "cell_type": "markdown",
   "id": "c5124970",
   "metadata": {},
   "source": [
    "# 3 Other useful stuff"
   ]
  },
  {
   "cell_type": "markdown",
   "id": "dd1f41e0",
   "metadata": {},
   "source": [
    "## 3.1 for with unpacking"
   ]
  },
  {
   "cell_type": "code",
   "execution_count": 23,
   "id": "7d750b44",
   "metadata": {},
   "outputs": [
    {
     "name": "stdout",
     "output_type": "stream",
     "text": [
      "x = 1, y=2, z=3\n"
     ]
    }
   ],
   "source": [
    "x,y,z = [1,2,3]\n",
    "print(f\"x = {x}, y={y}, z={z}\")"
   ]
  },
  {
   "cell_type": "code",
   "execution_count": 35,
   "id": "86d318fc",
   "metadata": {},
   "outputs": [
    {
     "name": "stdout",
     "output_type": "stream",
     "text": [
      "The 1 letter is A\n",
      "The 2 letter is B\n",
      "The 3 letter is C\n",
      "The 4 letter is D\n",
      "The 5 letter is E\n"
     ]
    }
   ],
   "source": [
    "data =[[\"A\", 1],[\"B\", 2],[\"C\", 3],\n",
    "       [\"D\", 4],[\"E\", 5]]\n",
    "for letter, number in data:\n",
    "    print(f\"The {number} letter is {letter}\")"
   ]
  },
  {
   "cell_type": "code",
   "execution_count": 36,
   "id": "2dbc7b35",
   "metadata": {},
   "outputs": [
    {
     "name": "stdout",
     "output_type": "stream",
     "text": [
      "The A letter is 1\n",
      "The B letter is 2\n",
      "The C letter is 3\n",
      "The D letter is 4\n",
      "The E letter is 5\n"
     ]
    }
   ],
   "source": [
    "data =[[\"A\", 1],[\"B\", 2],[\"C\", 3],\n",
    "       [\"D\", 4],[\"E\", 5]]\n",
    "for number, letter in data:\n",
    "    print(f\"The {number} letter is {letter}\")\n",
    "    \n",
    "#list = [[x,y][x,y][x,y]]\n",
    "#for loops assigns the variable as such {for x, y in list:}"
   ]
  },
  {
   "cell_type": "markdown",
   "id": "3890b012",
   "metadata": {},
   "source": [
    "## 3.2 for with zip()"
   ]
  },
  {
   "cell_type": "code",
   "execution_count": 39,
   "id": "d5b51a3f",
   "metadata": {},
   "outputs": [
    {
     "name": "stdout",
     "output_type": "stream",
     "text": [
      "A is the 1\n",
      "B is the 2\n",
      "C is the 3\n",
      "D is the 4\n",
      "E is the 5\n"
     ]
    }
   ],
   "source": [
    "Letter= [\"A\", \"B\", \"C\", \"D\", \"E\"]\n",
    "Number = [1,2,3,4,5,6]\n",
    "\n",
    "for Letter, Number in zip(Letter, Number):\n",
    "    print(f\"{Letter} is the {Number} letter\")\n",
    "    \n",
    "#ignores the extra element in Number"
   ]
  },
  {
   "cell_type": "code",
   "execution_count": 45,
   "id": "e08ba557",
   "metadata": {},
   "outputs": [
    {
     "name": "stdout",
     "output_type": "stream",
     "text": [
      "A is the 1 letter\n",
      "B is the 2 letter\n",
      "C is the 3 letter\n",
      "D is the 4 letter\n",
      "E is the 5 letter\n"
     ]
    }
   ],
   "source": [
    "Letter= [\"A\", \"B\", \"C\", \"D\", \"E\"]\n",
    "Number = [1,2,3,4,5]\n",
    "\n",
    "for x, y in zip(Letter, Number):\n",
    "    print(f\"{x} is the {y} letter\")\n",
    "    \n",
    "# x = letter\n",
    "# y = Number"
   ]
  },
  {
   "cell_type": "code",
   "execution_count": 46,
   "id": "80e57ff7",
   "metadata": {},
   "outputs": [
    {
     "name": "stdout",
     "output_type": "stream",
     "text": [
      "1 is the A letter\n",
      "2 is the B letter\n",
      "3 is the C letter\n",
      "4 is the D letter\n",
      "5 is the E letter\n"
     ]
    }
   ],
   "source": [
    "Letter= [\"A\", \"B\", \"C\", \"D\", \"E\"]\n",
    "Number = [1,2,3,4,5]\n",
    "\n",
    "for y, x in zip(Letter, Number):\n",
    "    print(f\"{x} is the {y} letter\")\n",
    "    \n",
    "#Order of lists matters, in this case:\n",
    "# x = number\n",
    "# y = letter"
   ]
  },
  {
   "cell_type": "markdown",
   "id": "a08fa041",
   "metadata": {},
   "source": [
    "## 3.3 for with dictionaries"
   ]
  },
  {
   "cell_type": "code",
   "execution_count": 53,
   "id": "c629b3b7",
   "metadata": {},
   "outputs": [
    {
     "name": "stdout",
     "output_type": "stream",
     "text": [
      "Bing Heng is Logs in-charge of SPS committee\n",
      "Yao Ting is Logs in-charge of SPS committee\n",
      "Edison is President of SPS committee\n",
      "Mathew is Vice-President of SPS committee\n",
      "Marcus is Programmes in-charge of SPS committee\n"
     ]
    }
   ],
   "source": [
    "sps_committee = {\"Bing Heng\":\"Logs in-charge\",\n",
    "                 \"Yao Ting\":\"Logs in-charge\",\n",
    "                 \"Edison\":\"President\",\n",
    "                 \"Mathew\":\"Vice-President\",\n",
    "                 \"Marcus\":\"Programmes in-charge\"}\n",
    "\n",
    "#items helps to split the key and value\n",
    "for x, y in sps_committee.items():\n",
    "    print(f\"{x} is {y} of SPS committee\")\n",
    "\n",
    "#order matters here again once more\n",
    "#x = key\n",
    "#y = value"
   ]
  },
  {
   "cell_type": "code",
   "execution_count": 55,
   "id": "4606fab4",
   "metadata": {},
   "outputs": [
    {
     "name": "stdout",
     "output_type": "stream",
     "text": [
      "Logs in-charge is Bing Heng of SPS committee\n",
      "Logs in-charge is Yao Ting of SPS committee\n",
      "President is Edison of SPS committee\n",
      "Vice-President is Mathew of SPS committee\n",
      "Programmes in-charge is Marcus of SPS committee\n"
     ]
    }
   ],
   "source": [
    "sps_committee = {\"Bing Heng\":\"Logs in-charge\",\n",
    "                 \"Yao Ting\":\"Logs in-charge\",\n",
    "                 \"Edison\":\"President\",\n",
    "                 \"Mathew\":\"Vice-President\",\n",
    "                 \"Marcus\":\"Programmes in-charge\"}\n",
    "for y, x in sps_committee.items():\n",
    "    print(f\"{x} is {y} of SPS committee\")\n",
    "    \n",
    "#y=key\n",
    "#x=value"
   ]
  },
  {
   "cell_type": "code",
   "execution_count": 63,
   "id": "0de6c5cc",
   "metadata": {},
   "outputs": [
    {
     "name": "stdout",
     "output_type": "stream",
     "text": [
      "Logs in-charge\n"
     ]
    }
   ],
   "source": []
  },
  {
   "cell_type": "code",
   "execution_count": 64,
   "id": "65b418d8",
   "metadata": {},
   "outputs": [
    {
     "name": "stdout",
     "output_type": "stream",
     "text": [
      "Bing Heng is Logs in-charge in SPS comm\n",
      "Yao Ting is Logs in-charge in SPS comm\n",
      "Edison is President in SPS comm\n",
      "Mathew is Vice-President in SPS comm\n",
      "Marcus is Programmes in-charge in SPS comm\n"
     ]
    }
   ],
   "source": [
    "for x in sps_committee.keys():  #access all the keys in the list\n",
    "    role = sps_committee[x]    #variable \"role\" = sps_committee[key]\n",
    "    print(f\"{x} is {role} in SPS comm\")"
   ]
  },
  {
   "cell_type": "markdown",
   "id": "30fa25ed",
   "metadata": {},
   "source": [
    "## Footnotes"
   ]
  }
 ],
 "metadata": {
  "kernelspec": {
   "display_name": "Python 3 (ipykernel)",
   "language": "python",
   "name": "python3"
  },
  "language_info": {
   "codemirror_mode": {
    "name": "ipython",
    "version": 3
   },
   "file_extension": ".py",
   "mimetype": "text/x-python",
   "name": "python",
   "nbconvert_exporter": "python",
   "pygments_lexer": "ipython3",
   "version": "3.11.5"
  },
  "toc": {
   "base_numbering": 1,
   "nav_menu": {},
   "number_sections": true,
   "sideBar": true,
   "skip_h1_title": false,
   "title_cell": "Table of Contents",
   "title_sidebar": "Contents",
   "toc_cell": false,
   "toc_position": {},
   "toc_section_display": true,
   "toc_window_display": false
  },
  "varInspector": {
   "cols": {
    "lenName": 16,
    "lenType": 16,
    "lenVar": 40
   },
   "kernels_config": {
    "python": {
     "delete_cmd_postfix": "",
     "delete_cmd_prefix": "del ",
     "library": "var_list.py",
     "varRefreshCmd": "print(var_dic_list())"
    },
    "r": {
     "delete_cmd_postfix": ") ",
     "delete_cmd_prefix": "rm(",
     "library": "var_list.r",
     "varRefreshCmd": "cat(var_dic_list()) "
    }
   },
   "types_to_exclude": [
    "module",
    "function",
    "builtin_function_or_method",
    "instance",
    "_Feature"
   ],
   "window_display": false
  },
  "vscode": {
   "interpreter": {
    "hash": "31f2aee4e71d21fbe5cf8b01ff0e069b9275f58929596ceb00d14d90e3e16cd6"
   }
  }
 },
 "nbformat": 4,
 "nbformat_minor": 5
}
