{
 "cells": [
  {
   "cell_type": "markdown",
   "id": "123456",
   "metadata": {},
   "source": [
    "<div style=\"text-align:left;font-size:2em\"><span style=\"font-weight:bolder;font-size:1.25em\">SP2273 | Learning Portfolio</span><br><br><span style=\"font-weight:bold;color:darkred\">Storing Data (Good)</span></div>"
   ]
  },
  {
   "cell_type": "markdown",
   "id": "1b056609",
   "metadata": {},
   "source": [
    "# What to expect in this chapter"
   ]
  },
  {
   "cell_type": "code",
   "execution_count": 1,
   "id": "0441ffcc",
   "metadata": {},
   "outputs": [],
   "source": [
    "import numpy as np"
   ]
  },
  {
   "cell_type": "markdown",
   "id": "41410cd8",
   "metadata": {},
   "source": [
    "# 1 Subsetting: Indexing and Slicing"
   ]
  },
  {
   "cell_type": "markdown",
   "id": "874bfb88",
   "metadata": {},
   "source": [
    "Subsetting means to select an element from a data set.\n",
    "\n",
    "**Indexing** means to select a single element from a data set.\n",
    "\n",
    "**Slicing** means to select a range of elements from a data set."
   ]
  },
  {
   "cell_type": "markdown",
   "id": "8eda78a5",
   "metadata": {},
   "source": [
    "## 1.1 Lists & Arrays in 1D | Subsetting & Indexing"
   ]
  },
  {
   "cell_type": "code",
   "execution_count": 4,
   "id": "7b1c9089",
   "metadata": {},
   "outputs": [
    {
     "name": "stdout",
     "output_type": "stream",
     "text": [
      "First element:\n",
      "\n",
      "a1\n",
      "a1\n",
      "Last Element:\n",
      "\n",
      "j10\n",
      "j10\n",
      "Element 0 to 2:\n",
      "\n",
      "['a1', 'b2', 'c3']\n",
      "['a1' 'b2' 'c3']\n",
      "Element 1 to 5:\n",
      "\n",
      "['b2', 'c3', 'd4', 'e5', 'f6']\n",
      "['b2' 'c3' 'd4' 'e5' 'f6']\n",
      "Every alternate elements from element 1 to 5:\n",
      "\n",
      "['b2', 'd4']\n",
      "['b2' 'd4']\n",
      "Every element from 5 to the end:\n",
      "\n",
      "['f6', 'g7', 'h8', 'i9', 'j10']\n",
      "['f6' 'g7' 'h8' 'i9' 'j10']\n",
      "Every element from 0 to 5:\n",
      "\n",
      "['a1', 'b2', 'c3', 'd4', 'e5']\n",
      "['a1' 'b2' 'c3' 'd4' 'e5']\n",
      "Every element from 5 to 3 in the reverse order:\n",
      "\n",
      "[]\n",
      "[]\n",
      "Inverting the elements from the back:\n",
      "\n",
      "['j10', 'i9', 'h8', 'g7', 'f6', 'e5', 'd4', 'c3', 'b2', 'a1']\n",
      "['j10' 'i9' 'h8' 'g7' 'f6' 'e5' 'd4' 'c3' 'b2' 'a1']\n"
     ]
    }
   ],
   "source": [
    "py_list=[\"a1\", \"b2\", \"c3\", \"d4\", \"e5\",\n",
    "        \"f6\", \"g7\", \"h8\", \"i9\", \"j10\"]\n",
    "np_array = np.array(py_list)\n",
    "\n",
    "x = py_list\n",
    "y = np_array\n",
    "\n",
    "#First element\n",
    "print(\"First element:\\n\")\n",
    "print(x[0])\n",
    "print(y[0])\n",
    "\n",
    "#Last element\n",
    "print(\"Last Element:\\n\")\n",
    "print(x[-1])\n",
    "print(y[-1])\n",
    "\n",
    "#index element 0, 1, 2\n",
    "print(\"Element 0 to 2:\\n\")\n",
    "print(x[0:3])                         #element 0 and element 3 inclusive\n",
    "print(y[0:3])\n",
    "\n",
    "#index element 1,2,3,4,5\n",
    "print(\"Element 1 to 5:\\n\")\n",
    "print(x[1:6])                         #elment 6 exclusive\n",
    "print(y[1:6])\n",
    "\n",
    "#index element 1 to element 5 in intervals of 2\n",
    "print(\"Every alternate elements from element 1 to 5:\\n\")\n",
    "print(x[1:5:2])\n",
    "print(y[1:5:2])\n",
    "\n",
    "#Index element 5 to the end\n",
    "print(\"Every element from 5 to the end:\\n\")\n",
    "print(x[5:])                          #Element 5 inclusive\n",
    "print(y[5:])\n",
    "\n",
    "#Index element 0 to 5\n",
    "print(\"Every element from 0 to 5:\\n\")\n",
    "print(x[:5])\n",
    "print(y[:5])                          #Element 0 and 5 inclusive\n",
    "\n",
    "#Index element 5 to 3 in the reverse order\n",
    "print(\"Every element from 5 to 3 in the reverse order:\\n\")\n",
    "print(x[3:5:-1])                      #Element 3 and 5 inclusive\n",
    "print(y[3:5:-1])\n",
    "\n",
    "#Reverse the list\n",
    "print(\"Inverting the elements from the back:\\n\")\n",
    "print(x[::-1])\n",
    "print(y[::-1])"
   ]
  },
  {
   "cell_type": "markdown",
   "id": "0d2d0ed7",
   "metadata": {},
   "source": [
    "## 1.2 Arrays only | Subsetting by masking"
   ]
  },
  {
   "cell_type": "code",
   "execution_count": 5,
   "id": "19ea4ed3",
   "metadata": {},
   "outputs": [
    {
     "name": "stdout",
     "output_type": "stream",
     "text": [
      "[False False False  True  True  True  True  True  True  True]\n"
     ]
    }
   ],
   "source": [
    "np_array = np.array([1,2,3,4,5,6,7,8,9,10])\n",
    "my_mask = np_array >3\n",
    "print(my_mask)"
   ]
  },
  {
   "cell_type": "code",
   "execution_count": 6,
   "id": "aa26bf9b",
   "metadata": {},
   "outputs": [
    {
     "name": "stdout",
     "output_type": "stream",
     "text": [
      "[ 4  5  6  7  8  9 10]\n"
     ]
    }
   ],
   "source": [
    "print(np_array[my_mask]) #only print elements that are > 3 aka \"true\""
   ]
  },
  {
   "cell_type": "markdown",
   "id": "ccc55cb0",
   "metadata": {},
   "source": [
    "**Only works for NumPy arrays**"
   ]
  },
  {
   "cell_type": "code",
   "execution_count": 10,
   "id": "e02e964d",
   "metadata": {},
   "outputs": [
    {
     "name": "stdout",
     "output_type": "stream",
     "text": [
      "[ 4  5  6  7  8  9 10]\n"
     ]
    }
   ],
   "source": [
    "print(np_array[np_array>3]) #Select elements that are >3 \n",
    "                            #in the array \"np_array\""
   ]
  },
  {
   "cell_type": "code",
   "execution_count": 13,
   "id": "6ff0aa2f",
   "metadata": {},
   "outputs": [
    {
     "name": "stdout",
     "output_type": "stream",
     "text": [
      "[1 2 3]\n"
     ]
    }
   ],
   "source": [
    "print(np_array[~(np_array>3)])#~ means \"NOT\" bitwise Not operator\n",
    "                              # Elements in np_array that are\n",
    "                              # NOT more than 3"
   ]
  },
  {
   "cell_type": "code",
   "execution_count": 15,
   "id": "9a1a89e3",
   "metadata": {},
   "outputs": [
    {
     "name": "stdout",
     "output_type": "stream",
     "text": [
      "[4 5 6 7]\n"
     ]
    }
   ],
   "source": [
    "# values that are more than 3 AND less than 8\n",
    "print(np_array[(np_array > 3) & (np_array < 8)])"
   ]
  },
  {
   "cell_type": "code",
   "execution_count": 14,
   "id": "d032c8b3",
   "metadata": {},
   "outputs": [
    {
     "name": "stdout",
     "output_type": "stream",
     "text": [
      "[1 2 3 4 5]\n"
     ]
    }
   ],
   "source": [
    "# values that are NOT more than 4, (less than 4)\n",
    "# OR\n",
    "# values that are lesser than 6\n",
    "print(np_array[~(np_array>4) | (np_array < 6)]) # \"|\" means OR"
   ]
  },
  {
   "cell_type": "markdown",
   "id": "87d938e9",
   "metadata": {},
   "source": [
    "## 1.3 Lists & Arrays in 2D | Indexing & Slicing"
   ]
  },
  {
   "cell_type": "code",
   "execution_count": 17,
   "id": "9511ab4f",
   "metadata": {},
   "outputs": [],
   "source": [
    "py_list_2d = [[1,\"A\"],[2,\"B\"],[3,\"C\"],[4,\"D\"],\n",
    "             [5,\"E\"],[6,\"F\"],[7,\"G\"], [8,\"H\"],\n",
    "             [9,\"I\"],[10,\"J\"]]\n",
    "\n",
    "np_array_2d = np.array(py_list_2d)"
   ]
  },
  {
   "cell_type": "code",
   "execution_count": 19,
   "id": "c6de4f84",
   "metadata": {},
   "outputs": [
    {
     "name": "stdout",
     "output_type": "stream",
     "text": [
      "The third element of the python list is:\n",
      "\n",
      "[4, 'D']\n",
      "The third elmeent of the NumPy Array:\n",
      "\n",
      "['4' 'D']\n"
     ]
    }
   ],
   "source": [
    "print(\"The third element of the python list is:\\n\")\n",
    "print(py_list_2d[3])\n",
    "\n",
    "print(\"The third elment of the NumPy Array:\\n\")\n",
    "print(np_array_2d[3])"
   ]
  },
  {
   "cell_type": "code",
   "execution_count": 26,
   "id": "9f4d3aca",
   "metadata": {},
   "outputs": [
    {
     "name": "stdout",
     "output_type": "stream",
     "text": [
      "The 4th element in the list and element 0 in the sublist:\n",
      "\n",
      "4\n",
      "The 3rd element in the list and element 0 in the sublist:\n",
      "\n",
      "4\n"
     ]
    }
   ],
   "source": [
    "print(\"The 4th element in the list and element 0 in the sublist:\\n\")\n",
    "print(py_list_2d[3][0])\n",
    "\n",
    "print(\"The 3rd element in the list and element 0 in the sublist:\\n\")\n",
    "print(np_array_2d[3,0])"
   ]
  },
  {
   "cell_type": "code",
   "execution_count": 22,
   "id": "4fadd053",
   "metadata": {},
   "outputs": [
    {
     "name": "stdout",
     "output_type": "stream",
     "text": [
      "The first 3 elements of the Python list is:\n",
      "\n",
      "[[1, 'A'], [2, 'B'], [3, 'C']]\n",
      "The first 3 elements of the NumPy Array is:\n",
      "\n",
      "[['1' 'A']\n",
      " ['2' 'B']\n",
      " ['3' 'C']]\n"
     ]
    }
   ],
   "source": [
    "print(\"The first 3 elements of the Python list is:\\n\")\n",
    "print(py_list_2d[:3])     #element 0 to element 3 in the list\n",
    "                          #element 3 inclusive\n",
    "\n",
    "    \n",
    "print(\"The first 3 elements of the NumPy Array is:\\n\")\n",
    "print(np_array_2d[:3])    #element 3 exclusive"
   ]
  },
  {
   "cell_type": "code",
   "execution_count": 28,
   "id": "b5c1e3c6",
   "metadata": {},
   "outputs": [
    {
     "name": "stdout",
     "output_type": "stream",
     "text": [
      "[1, 'A']\n",
      "['1' '2' '3']\n"
     ]
    }
   ],
   "source": [
    "#provides element 0 in the python list\n",
    "print(py_list_2d[:3][0])\n",
    "\n",
    "#Provides the first element of each sublist from 0 to 3\n",
    "#in the NumPy array\n",
    "\n",
    "print(np_array_2d[:3, 0])"
   ]
  },
  {
   "cell_type": "code",
   "execution_count": 48,
   "id": "a245a4bc",
   "metadata": {},
   "outputs": [
    {
     "name": "stdout",
     "output_type": "stream",
     "text": [
      "[4, 'D']\n",
      "['4' '5' '6']\n",
      "['1' '2' '3' '4' '5' '6' '7' '8' '9' '10']\n"
     ]
    }
   ],
   "source": [
    "print(py_list_2d[3:6][0])    #obtains\n",
    "\n",
    "print(np_array_2d[3:6, 0])   #Excludes element 6,\n",
    "                             #Returns the first element\n",
    "                             #in the first 3 elements\n",
    "        \n",
    "print(np_array_2d[:, 0])     #All element 0 in all elements in the list"
   ]
  },
  {
   "cell_type": "code",
   "execution_count": 46,
   "id": "9e0fc579",
   "metadata": {},
   "outputs": [
    {
     "name": "stdout",
     "output_type": "stream",
     "text": [
      "[1, 'A']\n"
     ]
    }
   ],
   "source": [
    "print(py_list_2d[0:6][0])  #obtains the element of (x + y),\n",
    "                           #in (py_list_2d[x:z][y])"
   ]
  },
  {
   "cell_type": "markdown",
   "id": "bcd34cdc",
   "metadata": {},
   "source": [
    "## 1.4 Growing lists"
   ]
  },
  {
   "cell_type": "code",
   "execution_count": 49,
   "id": "3cc4dd90",
   "metadata": {},
   "outputs": [
    {
     "name": "stdout",
     "output_type": "stream",
     "text": [
      "[1, 2, 1, 2, 1, 2, 1, 2, 1, 2]\n"
     ]
    }
   ],
   "source": [
    "#Repeat all the elements in the list 5 times\n",
    "x = [1,2]*5\n",
    "print(x)"
   ]
  },
  {
   "cell_type": "code",
   "execution_count": 54,
   "id": "88a81fda",
   "metadata": {},
   "outputs": [
    {
     "name": "stdout",
     "output_type": "stream",
     "text": [
      "[1]\n"
     ]
    }
   ],
   "source": [
    "x = [1]            #list called x has the element 1\n",
    "print(x)"
   ]
  },
  {
   "cell_type": "code",
   "execution_count": 55,
   "id": "f94c0498",
   "metadata": {},
   "outputs": [
    {
     "name": "stdout",
     "output_type": "stream",
     "text": [
      "[1, 2]\n"
     ]
    }
   ],
   "source": [
    "x = x + [2]        #Add the element \"2\" into the list\n",
    "print(x)"
   ]
  },
  {
   "cell_type": "code",
   "execution_count": 56,
   "id": "2c9b1ae0",
   "metadata": {},
   "outputs": [
    {
     "name": "stdout",
     "output_type": "stream",
     "text": [
      "[1, 2, 3]\n"
     ]
    }
   ],
   "source": [
    "x = x + [3]        #Add the element \"3\" into the list\n",
    "print(x)"
   ]
  },
  {
   "cell_type": "code",
   "execution_count": 57,
   "id": "d8e4757b",
   "metadata": {},
   "outputs": [
    {
     "name": "stdout",
     "output_type": "stream",
     "text": [
      "[1, 2, 3, 4]\n"
     ]
    }
   ],
   "source": [
    "x = x + [4]        #Add the element \"4\" into the list\n",
    "print(x)"
   ]
  },
  {
   "cell_type": "code",
   "execution_count": 61,
   "id": "b567f198",
   "metadata": {},
   "outputs": [
    {
     "name": "stdout",
     "output_type": "stream",
     "text": [
      "[1]\n"
     ]
    }
   ],
   "source": [
    "x = [1]\n",
    "print(x)"
   ]
  },
  {
   "cell_type": "code",
   "execution_count": 62,
   "id": "77c1bd4f",
   "metadata": {},
   "outputs": [
    {
     "name": "stdout",
     "output_type": "stream",
     "text": [
      "[1, 2]\n"
     ]
    }
   ],
   "source": [
    "x += [2]\n",
    "print(x)"
   ]
  },
  {
   "cell_type": "code",
   "execution_count": 63,
   "id": "7b8aa919",
   "metadata": {},
   "outputs": [
    {
     "name": "stdout",
     "output_type": "stream",
     "text": [
      "[1, 2, 3]\n"
     ]
    }
   ],
   "source": [
    "x += [3]\n",
    "print(x)"
   ]
  },
  {
   "cell_type": "code",
   "execution_count": 64,
   "id": "d9432c38",
   "metadata": {},
   "outputs": [
    {
     "name": "stdout",
     "output_type": "stream",
     "text": [
      "[1, 2, 3, 4]\n"
     ]
    }
   ],
   "source": [
    "x += [4]\n",
    "print(x)"
   ]
  },
  {
   "cell_type": "code",
   "execution_count": 71,
   "id": "8e47157a",
   "metadata": {},
   "outputs": [
    {
     "name": "stdout",
     "output_type": "stream",
     "text": [
      "[1]\n"
     ]
    }
   ],
   "source": [
    "x = [1]\n",
    "print(x)"
   ]
  },
  {
   "cell_type": "code",
   "execution_count": 72,
   "id": "59df0c0d",
   "metadata": {},
   "outputs": [
    {
     "name": "stdout",
     "output_type": "stream",
     "text": [
      "[1, 2]\n"
     ]
    }
   ],
   "source": [
    "x.append(2)         #Append function is faster, than the other methods\n",
    "print(x)"
   ]
  },
  {
   "cell_type": "code",
   "execution_count": 73,
   "id": "01ffe1b0",
   "metadata": {},
   "outputs": [
    {
     "name": "stdout",
     "output_type": "stream",
     "text": [
      "[1, 2, 3]\n"
     ]
    }
   ],
   "source": [
    "x.append(3)\n",
    "print(x)"
   ]
  },
  {
   "cell_type": "code",
   "execution_count": 74,
   "id": "342f3a66",
   "metadata": {},
   "outputs": [
    {
     "name": "stdout",
     "output_type": "stream",
     "text": [
      "[1, 2, 3, 4]\n"
     ]
    }
   ],
   "source": [
    "x.append(4)\n",
    "print(x)"
   ]
  },
  {
   "cell_type": "code",
   "execution_count": 75,
   "id": "b9a8dd23",
   "metadata": {},
   "outputs": [
    {
     "name": "stdout",
     "output_type": "stream",
     "text": [
      "[1, 2, 3, 4, 5, 6]\n"
     ]
    }
   ],
   "source": [
    "x = [1,2,3]         #List containing elements 1, 2 and 3\n",
    "x += [4,5,6]        #Add the elements 4, 5 and 6 to the list\n",
    "\n",
    "print(x)\n"
   ]
  },
  {
   "cell_type": "code",
   "execution_count": 76,
   "id": "6a602e5b",
   "metadata": {},
   "outputs": [
    {
     "name": "stdout",
     "output_type": "stream",
     "text": [
      "[1, 2, 3, 4, 5, 6]\n"
     ]
    }
   ],
   "source": [
    "x = [1,2,3]\n",
    "x.extend([4,5,6])    #extend the list with the elements 4,5 and 6\n",
    "\n",
    "print(x)"
   ]
  },
  {
   "cell_type": "code",
   "execution_count": 77,
   "id": "0df97527",
   "metadata": {},
   "outputs": [
    {
     "name": "stdout",
     "output_type": "stream",
     "text": [
      "[1, 2, 3, [4, 5, 6]]\n"
     ]
    }
   ],
   "source": [
    "x = [1,2,3]\n",
    "x.append([4,5,6])   #Append the list and add elments 4,5 and 6\n",
    "print(x)            #Includes the square brackets as well\n",
    "                    #Compared to the function extend"
   ]
  },
  {
   "cell_type": "markdown",
   "id": "06a7732d",
   "metadata": {},
   "source": [
    "## 1.5 Tuples"
   ]
  },
  {
   "cell_type": "code",
   "execution_count": 78,
   "id": "dd93aeff",
   "metadata": {},
   "outputs": [
    {
     "name": "stdout",
     "output_type": "stream",
     "text": [
      "1\n"
     ]
    }
   ],
   "source": [
    "a = (1,2,3)        #Define a tuple\n",
    "print(a[0])        #Access element 0"
   ]
  },
  {
   "cell_type": "code",
   "execution_count": 79,
   "id": "5e98df06",
   "metadata": {},
   "outputs": [
    {
     "ename": "TypeError",
     "evalue": "'tuple' object does not support item assignment",
     "output_type": "error",
     "traceback": [
      "\u001b[0;31m---------------------------------------------------------------------------\u001b[0m",
      "\u001b[0;31mTypeError\u001b[0m                                 Traceback (most recent call last)",
      "Cell \u001b[0;32mIn[79], line 1\u001b[0m\n\u001b[0;32m----> 1\u001b[0m a[\u001b[38;5;241m0\u001b[39m] \u001b[38;5;241m+\u001b[39m\u001b[38;5;241m=\u001b[39m \u001b[38;5;241m1\u001b[39m\n",
      "\u001b[0;31mTypeError\u001b[0m: 'tuple' object does not support item assignment"
     ]
    }
   ],
   "source": [
    "a[0] += 1"
   ]
  },
  {
   "cell_type": "markdown",
   "id": "d2eeaa2b",
   "metadata": {},
   "source": [
    "## 1.6 Be VERY careful when copying"
   ]
  },
  {
   "cell_type": "code",
   "execution_count": 82,
   "id": "7bf3e5f4",
   "metadata": {},
   "outputs": [
    {
     "name": "stdout",
     "output_type": "stream",
     "text": [
      "[1, 2, 3]\n",
      "[1, 2, 3]\n"
     ]
    }
   ],
   "source": [
    "x = [1,2,3]     #Don't do this!\n",
    "y=x\n",
    "z=x\n"
   ]
  },
  {
   "cell_type": "code",
   "execution_count": null,
   "id": "7449356a",
   "metadata": {},
   "outputs": [],
   "source": [
    "x = [1,2,3]\n",
    "y=x.copy()\n",
    "z=x.copy()"
   ]
  },
  {
   "cell_type": "markdown",
   "id": "88e8e143",
   "metadata": {},
   "source": [
    "# Exercises & Self-Assessment"
   ]
  },
  {
   "cell_type": "code",
   "execution_count": null,
   "id": "4be79c59",
   "metadata": {},
   "outputs": [],
   "source": [
    "\n",
    "\n",
    "\n",
    "# Your solution here\n",
    "\n",
    "\n"
   ]
  },
  {
   "cell_type": "markdown",
   "id": "f7c6e5b0",
   "metadata": {},
   "source": [
    "## Footnotes"
   ]
  }
 ],
 "metadata": {
  "kernelspec": {
   "display_name": "Python 3 (ipykernel)",
   "language": "python",
   "name": "python3"
  },
  "language_info": {
   "codemirror_mode": {
    "name": "ipython",
    "version": 3
   },
   "file_extension": ".py",
   "mimetype": "text/x-python",
   "name": "python",
   "nbconvert_exporter": "python",
   "pygments_lexer": "ipython3",
   "version": "3.11.5"
  },
  "toc": {
   "base_numbering": 1,
   "nav_menu": {},
   "number_sections": true,
   "sideBar": true,
   "skip_h1_title": false,
   "title_cell": "Table of Contents",
   "title_sidebar": "Contents",
   "toc_cell": false,
   "toc_position": {},
   "toc_section_display": true,
   "toc_window_display": false
  },
  "varInspector": {
   "cols": {
    "lenName": 16,
    "lenType": 16,
    "lenVar": 40
   },
   "kernels_config": {
    "python": {
     "delete_cmd_postfix": "",
     "delete_cmd_prefix": "del ",
     "library": "var_list.py",
     "varRefreshCmd": "print(var_dic_list())"
    },
    "r": {
     "delete_cmd_postfix": ") ",
     "delete_cmd_prefix": "rm(",
     "library": "var_list.r",
     "varRefreshCmd": "cat(var_dic_list()) "
    }
   },
   "types_to_exclude": [
    "module",
    "function",
    "builtin_function_or_method",
    "instance",
    "_Feature"
   ],
   "window_display": false
  },
  "vscode": {
   "interpreter": {
    "hash": "31f2aee4e71d21fbe5cf8b01ff0e069b9275f58929596ceb00d14d90e3e16cd6"
   }
  }
 },
 "nbformat": 4,
 "nbformat_minor": 5
}
