{
 "cells": [
  {
   "cell_type": "markdown",
   "id": "123456",
   "metadata": {},
   "source": [
    "<div style=\"text-align:left;font-size:2em\"><span style=\"font-weight:bolder;font-size:1.25em\">SP2273 | Learning Portfolio</span><br><br><span style=\"font-weight:bold;color:darkred\">Storing Data (Need)</span></div>"
   ]
  },
  {
   "cell_type": "markdown",
   "id": "05015268",
   "metadata": {},
   "source": [
    "# What to expect in this chapter"
   ]
  },
  {
   "cell_type": "code",
   "execution_count": 1,
   "id": "734ceb42",
   "metadata": {},
   "outputs": [],
   "source": [
    "import numpy as np"
   ]
  },
  {
   "cell_type": "markdown",
   "id": "066e9983",
   "metadata": {},
   "source": [
    "# 1 Lists, Arrays & Dictionaries"
   ]
  },
  {
   "cell_type": "markdown",
   "id": "00d16986",
   "metadata": {},
   "source": [
    "## Lists"
   ]
  },
  {
   "cell_type": "code",
   "execution_count": 3,
   "id": "8fcfbccd",
   "metadata": {},
   "outputs": [],
   "source": [
    "py_super_names = [\"Black Widow\", \"Iron Man\", \"Doctor Strange\"]\n",
    "py_real_names = [\"Natasha Romanoff\", \"Tony Stark\", \"Stephen Strange\"]\n",
    "\n",
    "#Information stored as lists\n",
    "#Order of each element is important, py_super_names[0] will always be \"Black Widow\""
   ]
  },
  {
   "cell_type": "markdown",
   "id": "69888db2",
   "metadata": {},
   "source": [
    "## Arrays"
   ]
  },
  {
   "cell_type": "code",
   "execution_count": 9,
   "id": "d3a49100",
   "metadata": {},
   "outputs": [
    {
     "name": "stdout",
     "output_type": "stream",
     "text": [
      "Black Widow\n",
      "Natasha Romanoff\n"
     ]
    }
   ],
   "source": [
    "np_super_names = np.array([\"Black Widow\", \"Iron Man\", \"Doctor Strange\"]) #()needed as np.array is a function\n",
    "np_real_names = np.array([\"Natasha Romanoff\", \"Tony Stark\", \"Stephen Strange\"])\n",
    "\n",
    "\n",
    "print(np_super_names[0])\n",
    "print(np_real_names[0])"
   ]
  },
  {
   "cell_type": "markdown",
   "id": "56b69268",
   "metadata": {},
   "source": [
    "## Dictionary"
   ]
  },
  {
   "cell_type": "code",
   "execution_count": 12,
   "id": "f38c115e",
   "metadata": {},
   "outputs": [
    {
     "name": "stdout",
     "output_type": "stream",
     "text": [
      "Iron Man\n"
     ]
    },
    {
     "ename": "KeyError",
     "evalue": "'Iron Man'",
     "output_type": "error",
     "traceback": [
      "\u001b[0;31m---------------------------------------------------------------------------\u001b[0m",
      "\u001b[0;31mKeyError\u001b[0m                                  Traceback (most recent call last)",
      "Cell \u001b[0;32mIn[12], line 8\u001b[0m\n\u001b[1;32m      1\u001b[0m superhero_info \u001b[38;5;241m=\u001b[39m {\n\u001b[1;32m      2\u001b[0m     \u001b[38;5;124m\"\u001b[39m\u001b[38;5;124mNatasha Romanoff\u001b[39m\u001b[38;5;124m\"\u001b[39m: \u001b[38;5;124m\"\u001b[39m\u001b[38;5;124mBlack Widow\u001b[39m\u001b[38;5;124m\"\u001b[39m,\n\u001b[1;32m      3\u001b[0m     \u001b[38;5;124m\"\u001b[39m\u001b[38;5;124mTony Stark\u001b[39m\u001b[38;5;124m\"\u001b[39m: \u001b[38;5;124m\"\u001b[39m\u001b[38;5;124mIron Man\u001b[39m\u001b[38;5;124m\"\u001b[39m,\n\u001b[1;32m      4\u001b[0m     \u001b[38;5;124m\"\u001b[39m\u001b[38;5;124mStephen Strange\u001b[39m\u001b[38;5;124m\"\u001b[39m: \u001b[38;5;124m\"\u001b[39m\u001b[38;5;124mDoctor Strange\u001b[39m\u001b[38;5;124m\"\u001b[39m\n\u001b[1;32m      5\u001b[0m }\n\u001b[1;32m      7\u001b[0m \u001b[38;5;28mprint\u001b[39m(superhero_info[\u001b[38;5;124m\"\u001b[39m\u001b[38;5;124mTony Stark\u001b[39m\u001b[38;5;124m\"\u001b[39m])\n\u001b[0;32m----> 8\u001b[0m \u001b[38;5;28mprint\u001b[39m(superhero_info[\u001b[38;5;124m\"\u001b[39m\u001b[38;5;124mIron Man\u001b[39m\u001b[38;5;124m\"\u001b[39m])\n",
      "\u001b[0;31mKeyError\u001b[0m: 'Iron Man'"
     ]
    }
   ],
   "source": [
    "superhero_info = {\n",
    "    \"Natasha Romanoff\": \"Black Widow\",\n",
    "    \"Tony Stark\": \"Iron Man\",\n",
    "    \"Stephen Strange\": \"Doctor Strange\"\n",
    "}\n",
    "\n",
    "print(superhero_info[\"Tony Stark\"])\n",
    "print(superhero_info[\"Iron Man\"]) #\"Iron Man\" is the element, to access this element, you need to \n",
    "                                  # enter the key, which is \"Tony Stark\" instead"
   ]
  },
  {
   "cell_type": "code",
   "execution_count": 15,
   "id": "7f85de17",
   "metadata": {},
   "outputs": [
    {
     "ename": "TypeError",
     "evalue": "unhashable type: 'numpy.ndarray'",
     "output_type": "error",
     "traceback": [
      "\u001b[0;31m---------------------------------------------------------------------------\u001b[0m",
      "\u001b[0;31mTypeError\u001b[0m                                 Traceback (most recent call last)",
      "Cell \u001b[0;32mIn[15], line 1\u001b[0m\n\u001b[0;32m----> 1\u001b[0m superhero_info_arrays \u001b[38;5;241m=\u001b[39m {\n\u001b[1;32m      2\u001b[0m     np_real_names: np_super_names\n\u001b[1;32m      3\u001b[0m }\n\u001b[1;32m      5\u001b[0m \u001b[38;5;28mprint\u001b[39m(superhero_info_arrays [\u001b[38;5;124m\"\u001b[39m\u001b[38;5;124mNatasha Romanoff\u001b[39m\u001b[38;5;124m\"\u001b[39m])\n",
      "\u001b[0;31mTypeError\u001b[0m: unhashable type: 'numpy.ndarray'"
     ]
    }
   ],
   "source": [
    "superhero_info_arrays = {\n",
    "    np_real_names: np_super_names\n",
    "}\n",
    "\n",
    "print(superhero_info_arrays [\"Natasha Romanoff\"]) #ok i guess this dosent work"
   ]
  },
  {
   "cell_type": "code",
   "execution_count": 14,
   "id": "e4bb0ff9",
   "metadata": {},
   "outputs": [
    {
     "ename": "TypeError",
     "evalue": "unhashable type: 'list'",
     "output_type": "error",
     "traceback": [
      "\u001b[0;31m---------------------------------------------------------------------------\u001b[0m",
      "\u001b[0;31mTypeError\u001b[0m                                 Traceback (most recent call last)",
      "Cell \u001b[0;32mIn[14], line 1\u001b[0m\n\u001b[0;32m----> 1\u001b[0m superhero_info_list \u001b[38;5;241m=\u001b[39m {\n\u001b[1;32m      2\u001b[0m     py_real_names: py_super_names\n\u001b[1;32m      3\u001b[0m }\n\u001b[1;32m      5\u001b[0m \u001b[38;5;28mprint\u001b[39m(superhero_info_list[\u001b[38;5;124m\"\u001b[39m\u001b[38;5;124mNatasha Romanoff\u001b[39m\u001b[38;5;124m\"\u001b[39m])\n",
      "\u001b[0;31mTypeError\u001b[0m: unhashable type: 'list'"
     ]
    }
   ],
   "source": [
    "superhero_info_list = {\n",
    "    py_real_names: py_super_names\n",
    "}\n",
    "\n",
    "print(superhero_info_list[\"Natasha Romanoff\"]) #ok i will not be lazy"
   ]
  },
  {
   "cell_type": "markdown",
   "id": "0f21bfd5",
   "metadata": {},
   "source": [
    "## 1.1 Let’s compare"
   ]
  },
  {
   "cell_type": "markdown",
   "id": "14111035",
   "metadata": {},
   "source": [
    "## 1.2 Accessing data from a list (or array)"
   ]
  },
  {
   "cell_type": "code",
   "execution_count": 16,
   "id": "f67fd9e8",
   "metadata": {},
   "outputs": [],
   "source": [
    "py_super_names = [\"Black Widow\", \"Iron Man\", \"Doctor Strange\"]\n",
    "py_real_names = [\"Natasha Romanoff\", \"Tony Stark\", \"Stephen Strange\"]"
   ]
  },
  {
   "cell_type": "code",
   "execution_count": 34,
   "id": "f7189bfa",
   "metadata": {},
   "outputs": [
    {
     "name": "stdout",
     "output_type": "stream",
     "text": [
      "Natasha Romanoff is Black Widow\n",
      "\n",
      "Tony Stark is Iron Man\n",
      "\n",
      "Stephen Strange is Doctor Strange\n",
      "\n",
      "Using negative index:\n",
      "\n",
      "Doctor Strange, Iron Man, Black Widow\n"
     ]
    }
   ],
   "source": [
    "print(f\"{py_real_names[0]} is {py_super_names[0]}\\n\") # \"Natasha Romanoff\", \"Black Widow\"\n",
    "print(f\"{py_real_names[1]} is {py_super_names[1]}\\n\") # \"Iron Man\", \"Tony Stark\"\n",
    "print(f\"{py_real_names[2]} is {py_super_names[2]}\\n\") # \"Doctor Strange\", \"Stephen Strange\"\n",
    "\n",
    "print(\"Using negative index:\\n\")                                           # reverse indexing,\n",
    "print(f\"{py_super_names[-1]}, {py_super_names[-2]}, {py_super_names[-3]}\") # \"Doctor Strange\" = [-1]"
   ]
  },
  {
   "cell_type": "markdown",
   "id": "2c720861",
   "metadata": {},
   "source": [
    "## 1.3 Accessing data from a dictionary"
   ]
  },
  {
   "cell_type": "code",
   "execution_count": 10,
   "id": "2170bed3",
   "metadata": {},
   "outputs": [
    {
     "name": "stdout",
     "output_type": "stream",
     "text": [
      "Iron Man\n",
      "dict_keys(['Natasha Romanoff', 'Tony Stark', 'Stephen Strange'])\n",
      "dict_values(['Black Widow', 'Iron Man', 'Doctor Strange'])\n"
     ]
    }
   ],
   "source": [
    "superhero_info = {\n",
    "    \"Natasha Romanoff\": \"Black Widow\",\n",
    "    \"Tony Stark\": \"Iron Man\",\n",
    "    \"Stephen Strange\": \"Doctor Strange\"\n",
    "}\n",
    "\n",
    "print(superhero_info[\"Tony Stark\"])\n",
    "print(superhero_info.keys())        \n",
    "print(superhero_info.values())"
   ]
  },
  {
   "cell_type": "code",
   "execution_count": 42,
   "id": "ce306d1f",
   "metadata": {},
   "outputs": [
    {
     "name": "stdout",
     "output_type": "stream",
     "text": [
      "dict_keys(['Natasha Romanoff', 'Tony Stark', 'Stephen Strange'])\n",
      "dict_values(['Black Widow', 'Iron Man', 'Doctor Strange'])\n"
     ]
    }
   ],
   "source": [
    "print(superhero_info.keys())  #() needed as .keys is a function for the dictionary \"superhero_info\"\n",
    "print(superhero_info.values())"
   ]
  },
  {
   "cell_type": "markdown",
   "id": "7f4635cc",
   "metadata": {},
   "source": [
    "## 1.4 Higher dimensional lists"
   ]
  },
  {
   "cell_type": "code",
   "execution_count": 48,
   "id": "e77ffda2",
   "metadata": {},
   "outputs": [
    {
     "name": "stdout",
     "output_type": "stream",
     "text": [
      "Iron Man\n",
      "Black Widow\n",
      "['Tony Stark', 'Iron Man']\n"
     ]
    }
   ],
   "source": [
    "py_superhero_info = [[\"Natasha Romanoff\",\"Black Widow\",],\n",
    "                     [\"Tony Stark\",\"Iron Man\"],\n",
    "                    [\"Stephen Strange\", \"Doctor Strange\"]]\n",
    "\n",
    "print(py_superhero_info[1][1])\n",
    "print(py_superhero_info[0][1])   #prints specific element in the list\n",
    "print(py_superhero_info[1])      #prints the 2nd element altogether in the first \"outer\" list"
   ]
  },
  {
   "cell_type": "markdown",
   "id": "74db2c15",
   "metadata": {},
   "source": [
    "# 2 Lists vs. Arrays"
   ]
  },
  {
   "cell_type": "code",
   "execution_count": 3,
   "id": "4918f560",
   "metadata": {},
   "outputs": [],
   "source": [
    "py_list_2d = [[1,\"A\"],[2,\"B\"],[3,\"C\"],[4,\"D\"],       #Defines a Python list\n",
    "              [5,\"E\"],[6,\"F\"],[7,\"G\"], [8,\"H\"],\n",
    "              [9,\"I\"], [10,\"J\"]]\n",
    "\n",
    "np_array_2d = np.array(py_list_2d)                   #Make the python list into a NumPy Array"
   ]
  },
  {
   "cell_type": "markdown",
   "id": "286c5931",
   "metadata": {},
   "source": [
    "## 2.1 Size"
   ]
  },
  {
   "cell_type": "code",
   "execution_count": 62,
   "id": "5d04d5ef",
   "metadata": {},
   "outputs": [
    {
     "name": "stdout",
     "output_type": "stream",
     "text": [
      "The number of elements in the list 'py_list_2d' is 14\n",
      "The number of elements in the array 'np_array_2d' is 10\n"
     ]
    },
    {
     "data": {
      "text/plain": [
       "(10, 2)"
      ]
     },
     "execution_count": 62,
     "metadata": {},
     "output_type": "execute_result"
    }
   ],
   "source": [
    "print(f\"The number of elements in the list 'py_list_2d' is {len(py_list_2d)}\")       #length of the pylist, number of elements\n",
    "print(f\"The number of elements in the array 'np_array_2d' is {len(np_array_2d)}\")\n",
    "\n",
    "\n",
    "np_array_2d.shape   #10 elements each element contain 2 sub elements"
   ]
  },
  {
   "cell_type": "code",
   "execution_count": 6,
   "id": "9df871b9",
   "metadata": {},
   "outputs": [
    {
     "name": "stdout",
     "output_type": "stream",
     "text": [
      "13\n"
     ]
    },
    {
     "ename": "ValueError",
     "evalue": "setting an array element with a sequence. The requested array has an inhomogeneous shape after 1 dimensions. The detected shape was (13,) + inhomogeneous part.",
     "output_type": "error",
     "traceback": [
      "\u001b[0;31m---------------------------------------------------------------------------\u001b[0m",
      "\u001b[0;31mValueError\u001b[0m                                Traceback (most recent call last)",
      "Cell \u001b[0;32mIn[6], line 4\u001b[0m\n\u001b[1;32m      1\u001b[0m py_list_2d\u001b[38;5;241m.\u001b[39mappend([\u001b[38;5;241m11\u001b[39m,\u001b[38;5;124m\"\u001b[39m\u001b[38;5;124mJ\u001b[39m\u001b[38;5;124m\"\u001b[39m,\u001b[38;5;124m\"\u001b[39m\u001b[38;5;124mTrial\u001b[39m\u001b[38;5;124m\"\u001b[39m])\n\u001b[1;32m      3\u001b[0m \u001b[38;5;28mprint\u001b[39m(\u001b[38;5;28mlen\u001b[39m(py_list_2d))\n\u001b[0;32m----> 4\u001b[0m np_array_2d \u001b[38;5;241m=\u001b[39m np\u001b[38;5;241m.\u001b[39marray(py_list_2d) \u001b[38;5;66;03m#Array has to be all of the same shape\u001b[39;00m\n\u001b[1;32m      5\u001b[0m \u001b[38;5;28mprint\u001b[39m(np_array_2d\u001b[38;5;241m.\u001b[39mshape)\n",
      "\u001b[0;31mValueError\u001b[0m: setting an array element with a sequence. The requested array has an inhomogeneous shape after 1 dimensions. The detected shape was (13,) + inhomogeneous part."
     ]
    }
   ],
   "source": [
    "py_list_2d.append([11,\"J\",\"Trial\"])\n",
    "\n",
    "print(len(py_list_2d))\n",
    "np_array_2d = np.array(py_list_2d) #Array has to be all of the same shape\n",
    "print(np_array_2d.shape)   #help why does it not recognise and count the last added element"
   ]
  },
  {
   "cell_type": "markdown",
   "id": "6362cb72",
   "metadata": {},
   "source": [
    "## 2.2 Arrays are fussy about type"
   ]
  },
  {
   "cell_type": "code",
   "execution_count": 75,
   "id": "0d97c416",
   "metadata": {},
   "outputs": [
    {
     "name": "stdout",
     "output_type": "stream",
     "text": [
      "[1, 1.5, 'A']\n",
      "The first element is <class 'int'>\n",
      "The second element is <class 'float'>\n",
      "The third element is <class 'str'>\n",
      "['1' '1.5' 'A']\n",
      "The first element is <class 'numpy.str_'>\n",
      "The second element is <class 'numpy.str_'>\n",
      "The third element is <class 'numpy.str_'>\n"
     ]
    }
   ],
   "source": [
    "py_list = [1, 1.5, \"A\"]\n",
    "np_array = np.array(py_list)\n",
    "\n",
    "#type of element in a python list\n",
    "print(py_list)\n",
    "print(f\"The first element is {type(py_list[0])}\")\n",
    "print(f\"The second element is {type(py_list[1])}\")\n",
    "print(f\"The third element is {type(py_list[2])}\")\n",
    "\n",
    "#type of element in a NumPy array\n",
    "print(np_array)\n",
    "print(f\"The first element is {type(np_array[0])}\")\n",
    "print(f\"The second element is {type(np_array[1])}\")\n",
    "print(f\"The third element is {type(np_array[2])}\")"
   ]
  },
  {
   "cell_type": "markdown",
   "id": "771e1941",
   "metadata": {},
   "source": [
    "## 2.3 Adding a number"
   ]
  },
  {
   "cell_type": "code",
   "execution_count": 78,
   "id": "748a1a83",
   "metadata": {},
   "outputs": [
    {
     "name": "stdout",
     "output_type": "stream",
     "text": [
      "[11 12 13 14 15]\n"
     ]
    }
   ],
   "source": [
    "py_list = [1,2,3,4,5]\n",
    "np_array = np.array(py_list)   #reuse the python list\n",
    "                               #to create a new NumPy array\n",
    "\n",
    "#Add 10 to each element in py_list \n",
    "np_array+=10\n",
    "print(np_array)"
   ]
  },
  {
   "cell_type": "code",
   "execution_count": 79,
   "id": "63047c66",
   "metadata": {},
   "outputs": [
    {
     "ename": "TypeError",
     "evalue": "'int' object is not iterable",
     "output_type": "error",
     "traceback": [
      "\u001b[0;31m---------------------------------------------------------------------------\u001b[0m",
      "\u001b[0;31mTypeError\u001b[0m                                 Traceback (most recent call last)",
      "Cell \u001b[0;32mIn[79], line 1\u001b[0m\n\u001b[0;32m----> 1\u001b[0m py_list \u001b[38;5;241m+\u001b[39m\u001b[38;5;241m=\u001b[39m \u001b[38;5;241m10\u001b[39m\n\u001b[1;32m      2\u001b[0m \u001b[38;5;28mprint\u001b[39m(py_list)\n",
      "\u001b[0;31mTypeError\u001b[0m: 'int' object is not iterable"
     ]
    }
   ],
   "source": [
    "py_list += 10\n",
    "print(py_list)       #Unable to add 10 to each element individually"
   ]
  },
  {
   "cell_type": "markdown",
   "id": "2751bbce",
   "metadata": {},
   "source": [
    "## 2.4 Adding another list"
   ]
  },
  {
   "cell_type": "code",
   "execution_count": 80,
   "id": "476d7371",
   "metadata": {},
   "outputs": [
    {
     "name": "stdout",
     "output_type": "stream",
     "text": [
      "[1, 2, 3, 4, 5, 10, 20, 30, 40, 50]\n",
      "[11 22 33 44 55]\n"
     ]
    }
   ],
   "source": [
    "py_list_1 = [1,2,3,4,5]\n",
    "py_list_2 = [10,20,30,40,50]\n",
    "\n",
    "np_array_1 = np.array(py_list_1)\n",
    "np_array_2 = np.array(py_list_2)\n",
    "\n",
    "py_list_3 = py_list_1 + py_list_2             #Append elements in other list into original list\n",
    "np_array_3 = np_array_1 + np_array_2          #Add each element individually\n",
    "\n",
    "print(py_list_3)\n",
    "print(np_array_3)"
   ]
  },
  {
   "cell_type": "code",
   "execution_count": 85,
   "id": "aba7eecc",
   "metadata": {},
   "outputs": [
    {
     "ename": "ValueError",
     "evalue": "operands could not be broadcast together with shapes (5,) (6,) ",
     "output_type": "error",
     "traceback": [
      "\u001b[0;31m---------------------------------------------------------------------------\u001b[0m",
      "\u001b[0;31mValueError\u001b[0m                                Traceback (most recent call last)",
      "Cell \u001b[0;32mIn[85], line 4\u001b[0m\n\u001b[1;32m      1\u001b[0m test_py_list_1 \u001b[38;5;241m=\u001b[39m [\u001b[38;5;241m1\u001b[39m,\u001b[38;5;241m2\u001b[39m,\u001b[38;5;241m3\u001b[39m,\u001b[38;5;241m4\u001b[39m,\u001b[38;5;241m5\u001b[39m,\u001b[38;5;241m6\u001b[39m]\n\u001b[1;32m      2\u001b[0m test_np_array_1 \u001b[38;5;241m=\u001b[39m np\u001b[38;5;241m.\u001b[39marray(test_py_list_1)\n\u001b[0;32m----> 4\u001b[0m test_np_array_2 \u001b[38;5;241m=\u001b[39m np_array_1 \u001b[38;5;241m+\u001b[39m test_np_array_1\n\u001b[1;32m      6\u001b[0m \u001b[38;5;28mprint\u001b[39m(test_np_array_2)\n",
      "\u001b[0;31mValueError\u001b[0m: operands could not be broadcast together with shapes (5,) (6,) "
     ]
    }
   ],
   "source": [
    "test_py_list_1 = [1,2,3,4,5,6]\n",
    "test_np_array_1 = np.array(test_py_list_1)\n",
    "\n",
    "test_np_array_2 = np_array_1 + test_np_array_1\n",
    "\n",
    "print(test_np_array_2)\n",
    "\n",
    "#number of elements in the array has to be identical"
   ]
  },
  {
   "cell_type": "markdown",
   "id": "33e04895",
   "metadata": {},
   "source": [
    "## 2.5 Multiplying by a Number"
   ]
  },
  {
   "cell_type": "code",
   "execution_count": 86,
   "id": "4447045a",
   "metadata": {},
   "outputs": [
    {
     "name": "stdout",
     "output_type": "stream",
     "text": [
      "[1, 2, 3, 4, 5, 1, 2, 3, 4, 5, 1, 2, 3, 4, 5]\n",
      "[ 3  6  9 12 15]\n"
     ]
    }
   ],
   "source": [
    "py_list = [1,2,3,4,5]\n",
    "np_array = np.array(py_list)\n",
    "\n",
    "py_list *= 3\n",
    "np_array *= 3\n",
    "\n",
    "print(py_list)   #repeat each element 3 times\n",
    "print(np_array)  #Multiply each element in the list by 3"
   ]
  },
  {
   "cell_type": "markdown",
   "id": "3770a755",
   "metadata": {},
   "source": [
    "## 2.6 Squaring"
   ]
  },
  {
   "cell_type": "code",
   "execution_count": 90,
   "id": "e127825c",
   "metadata": {},
   "outputs": [
    {
     "name": "stdout",
     "output_type": "stream",
     "text": [
      "[ 1  4  9 16 25]\n"
     ]
    }
   ],
   "source": [
    "py_list = [1,2,3,4,5]\n",
    "np_array = np.array(py_list)\n",
    "\n",
    "np_array **= 2\n",
    "\n",
    "print(np_array)  #Square each element in the array"
   ]
  },
  {
   "cell_type": "code",
   "execution_count": 91,
   "id": "c98c74d1",
   "metadata": {},
   "outputs": [
    {
     "ename": "TypeError",
     "evalue": "unsupported operand type(s) for **=: 'list' and 'int'",
     "output_type": "error",
     "traceback": [
      "\u001b[0;31m---------------------------------------------------------------------------\u001b[0m",
      "\u001b[0;31mTypeError\u001b[0m                                 Traceback (most recent call last)",
      "Cell \u001b[0;32mIn[91], line 1\u001b[0m\n\u001b[0;32m----> 1\u001b[0m py_list \u001b[38;5;241m*\u001b[39m\u001b[38;5;241m*\u001b[39m\u001b[38;5;241m=\u001b[39m \u001b[38;5;241m2\u001b[39m\n\u001b[1;32m      2\u001b[0m \u001b[38;5;28mprint\u001b[39m(py_list)\n",
      "\u001b[0;31mTypeError\u001b[0m: unsupported operand type(s) for **=: 'list' and 'int'"
     ]
    }
   ],
   "source": [
    "py_list **= 2\n",
    "print(py_list)   #python list is unable to do this"
   ]
  },
  {
   "cell_type": "markdown",
   "id": "156c7240",
   "metadata": {},
   "source": [
    "## 2.7 Asking questions"
   ]
  },
  {
   "cell_type": "code",
   "execution_count": 94,
   "id": "2de9c4af",
   "metadata": {},
   "outputs": [
    {
     "name": "stdout",
     "output_type": "stream",
     "text": [
      "It is False that the element 3 is in the python list\n",
      "It is [False False  True False False] that the element 3 is in the NumPy Array\n",
      "It is [False False False  True  True] that the elements are greater than 3 in the NumPy Array\n"
     ]
    }
   ],
   "source": [
    "py_list = [1,2,3,4,5]\n",
    "np_array = np.array(py_list)\n",
    "\n",
    "\n",
    "#checking if a specific element is present\n",
    "\n",
    "#Checks the condition in the list but does not speciy it's location\n",
    "print(f\"It is {py_list == 3} that the element 3 is in the python list\")\n",
    "\n",
    "#Checks the condition for every element along the numpy array and tells you it's exact location\n",
    "print(f\"It is {np_array == 3} that the element 3 is in the NumPy Array\")   \n",
    "\n",
    "#checking if a specific element is greater or lower\n",
    "\n",
    "#Checking each specific element in the array if it is greater than 3\n",
    "print(f\"It is {np_array > 3} that the elements are greater than 3 in the NumPy Array\")"
   ]
  },
  {
   "cell_type": "code",
   "execution_count": 95,
   "id": "73b0c273",
   "metadata": {},
   "outputs": [
    {
     "ename": "TypeError",
     "evalue": "'>' not supported between instances of 'list' and 'int'",
     "output_type": "error",
     "traceback": [
      "\u001b[0;31m---------------------------------------------------------------------------\u001b[0m",
      "\u001b[0;31mTypeError\u001b[0m                                 Traceback (most recent call last)",
      "Cell \u001b[0;32mIn[95], line 1\u001b[0m\n\u001b[0;32m----> 1\u001b[0m \u001b[38;5;28mprint\u001b[39m(\u001b[38;5;124mf\u001b[39m\u001b[38;5;124m\"\u001b[39m\u001b[38;5;124mIt is \u001b[39m\u001b[38;5;132;01m{\u001b[39;00mpy_list\u001b[38;5;250m \u001b[39m\u001b[38;5;241m>\u001b[39m\u001b[38;5;250m \u001b[39m\u001b[38;5;241m3\u001b[39m\u001b[38;5;132;01m}\u001b[39;00m\u001b[38;5;124m that the elements are greater than 3 in the python list\u001b[39m\u001b[38;5;124m\"\u001b[39m)\n",
      "\u001b[0;31mTypeError\u001b[0m: '>' not supported between instances of 'list' and 'int'"
     ]
    }
   ],
   "source": [
    "#Python list is unable to perform this check\n",
    "print(f\"It is {py_list > 3} that the elements are greater than 3 in the python list\")"
   ]
  },
  {
   "cell_type": "markdown",
   "id": "25911a5c",
   "metadata": {},
   "source": [
    "## 2.8 Mathematics"
   ]
  },
  {
   "cell_type": "code",
   "execution_count": 99,
   "id": "fe9bdb23",
   "metadata": {},
   "outputs": [
    {
     "name": "stdout",
     "output_type": "stream",
     "text": [
      "The sum of the elements = 15\n",
      "The highest element = 5\n",
      "The lowest element = 1\n",
      "\n",
      "\n",
      "The sum of the elements = 15\n",
      "The highest element = 5\n",
      "The smallest element = 1\n",
      "The mean value of the array = 3.0\n",
      "The standard deviation of the array = 1.4142135623730951\n"
     ]
    }
   ],
   "source": [
    "py_list = [1,2,3,4,5]\n",
    "np_array = np.array(py_list)\n",
    "\n",
    "#Mathematical functions that Python list could perform\n",
    "\n",
    "print(f\"The sum of the elements = {sum(py_list)}\")    #Sum of all elements in the list\n",
    "print(f\"The highest element = {max(py_list)}\")        #Identify the largest element in the list\n",
    "print(f\"The lowest element = {min(py_list)}\\n\\n\")         #Identify the smallest element in the list\n",
    "    \n",
    "#Mathemaical functions that NumPy can perform\n",
    "\n",
    "print(f\"The sum of the elements = {np_array.sum()}\")               #Sum of all elements in the list\n",
    "print(f\"The highest element = {np_array.max()}\")                   #Maximum value of the element in the list\n",
    "print(f\"The smallest element = {np_array.min()}\")                  #Minimum value of the element in the list\n",
    "print(f\"The mean value of the array = {np_array.mean()}\")          #Mean value of the elements in the list\n",
    "print(f\"The standard deviation of the array = {np_array.std()}\")   #Standard deviation of the elements in the list"
   ]
  },
  {
   "cell_type": "markdown",
   "id": "aecd457b",
   "metadata": {},
   "source": [
    "# Exercises & Self-Assessment"
   ]
  },
  {
   "cell_type": "code",
   "execution_count": null,
   "id": "aa0c94a4",
   "metadata": {},
   "outputs": [],
   "source": [
    "\n",
    "\n",
    "\n",
    "# Your solution here\n",
    "\n",
    "\n"
   ]
  },
  {
   "cell_type": "markdown",
   "id": "10991ed5",
   "metadata": {},
   "source": [
    "## Footnotes"
   ]
  }
 ],
 "metadata": {
  "kernelspec": {
   "display_name": "Python 3 (ipykernel)",
   "language": "python",
   "name": "python3"
  },
  "language_info": {
   "codemirror_mode": {
    "name": "ipython",
    "version": 3
   },
   "file_extension": ".py",
   "mimetype": "text/x-python",
   "name": "python",
   "nbconvert_exporter": "python",
   "pygments_lexer": "ipython3",
   "version": "3.11.5"
  },
  "toc": {
   "base_numbering": 1,
   "nav_menu": {},
   "number_sections": true,
   "sideBar": true,
   "skip_h1_title": false,
   "title_cell": "Table of Contents",
   "title_sidebar": "Contents",
   "toc_cell": false,
   "toc_position": {},
   "toc_section_display": true,
   "toc_window_display": false
  },
  "varInspector": {
   "cols": {
    "lenName": 16,
    "lenType": 16,
    "lenVar": 40
   },
   "kernels_config": {
    "python": {
     "delete_cmd_postfix": "",
     "delete_cmd_prefix": "del ",
     "library": "var_list.py",
     "varRefreshCmd": "print(var_dic_list())"
    },
    "r": {
     "delete_cmd_postfix": ") ",
     "delete_cmd_prefix": "rm(",
     "library": "var_list.r",
     "varRefreshCmd": "cat(var_dic_list()) "
    }
   },
   "types_to_exclude": [
    "module",
    "function",
    "builtin_function_or_method",
    "instance",
    "_Feature"
   ],
   "window_display": false
  },
  "vscode": {
   "interpreter": {
    "hash": "31f2aee4e71d21fbe5cf8b01ff0e069b9275f58929596ceb00d14d90e3e16cd6"
   }
  }
 },
 "nbformat": 4,
 "nbformat_minor": 5
}
