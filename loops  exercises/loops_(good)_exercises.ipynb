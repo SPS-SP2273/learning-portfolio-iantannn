{
 "cells": [
  {
   "cell_type": "markdown",
   "id": "123456",
   "metadata": {},
   "source": [
    "<div style=\"text-align:left;font-size:2em\"><span style=\"font-weight:bolder;font-size:1.25em\">SP2273 | Learning Portfolio</span><br><br><span style=\"font-weight:bold;color:darkred\">Loops (Good) Exercises</span></div>"
   ]
  },
  {
   "cell_type": "markdown",
   "id": "4b42f392",
   "metadata": {},
   "source": [
    "## Exercise 1"
   ]
  },
  {
   "cell_type": "code",
   "execution_count": 1,
   "id": "d031e38c",
   "metadata": {},
   "outputs": [
    {
     "name": "stdout",
     "output_type": "stream",
     "text": [
      "[1, 9, 25, 49, 81]\n"
     ]
    }
   ],
   "source": [
    "#for loop that prints number from 0-10\n",
    "odd_square_list = []\n",
    "\n",
    "for i in range(10):\n",
    "    if i%2 == 0:       #checks for eveness, if no remainder,\n",
    "        continue       #skips this number\n",
    "    odd_square=i**2\n",
    "    odd_square_list.append(odd_square)\n",
    "    \n",
    "print(odd_square_list)"
   ]
  },
  {
   "cell_type": "code",
   "execution_count": 2,
   "id": "af07e5d5",
   "metadata": {},
   "outputs": [
    {
     "name": "stdout",
     "output_type": "stream",
     "text": [
      "[1, 9, 25, 49, 81]\n"
     ]
    }
   ],
   "source": [
    "list_odd = [number**2 for number in range(0,10) if number%2!=0]\n",
    "print(list_odd)\n",
    "\n",
    "#Variable \"number\" squared in list.\n",
    "#Repeat a loop and print numbers 0-10. \n",
    "#On the condition that \"number\" divide by 2 has no remainder"
   ]
  },
  {
   "cell_type": "markdown",
   "id": "0968f2c1",
   "metadata": {},
   "source": [
    "## Exercise 3"
   ]
  },
  {
   "cell_type": "code",
   "execution_count": 3,
   "id": "855eea53",
   "metadata": {},
   "outputs": [
    {
     "name": "stdout",
     "output_type": "stream",
     "text": [
      "394 ns ± 2.31 ns per loop (mean ± std. dev. of 7 runs, 1,000,000 loops each)\n"
     ]
    }
   ],
   "source": [
    "%%timeit\n",
    "list_odd = [number**2 for number in range(0,10) if number%2!=0]\n",
    "#print(list_odd)\n",
    "\n",
    "#Variable \"number\" squared in list.\n",
    "#Repeat a loop and print numbers 0-10. \n",
    "#On the condition that \"number\" divide by 2 has no remainder\n",
    "#timeit function keeps running "
   ]
  },
  {
   "cell_type": "code",
   "execution_count": 5,
   "id": "e2cb49f0",
   "metadata": {},
   "outputs": [
    {
     "name": "stdout",
     "output_type": "stream",
     "text": [
      "327 ns ± 3.02 ns per loop (mean ± std. dev. of 7 runs, 1,000,000 loops each)\n"
     ]
    }
   ],
   "source": [
    "%%timeit\n",
    "for i in range(10):\n",
    "    if i%2 == 0:       #checks for eveness, if no remainder,\n",
    "        continue       #skips this number\n",
    "    odd_square=i**2\n",
    "    #print(odd_square)"
   ]
  },
  {
   "cell_type": "markdown",
   "id": "f8213a84",
   "metadata": {},
   "source": [
    "The for loop method is faster"
   ]
  },
  {
   "cell_type": "markdown",
   "id": "cf485092",
   "metadata": {},
   "source": [
    "## Exercise 4"
   ]
  },
  {
   "cell_type": "code",
   "execution_count": 1,
   "id": "be187ad9",
   "metadata": {},
   "outputs": [
    {
     "name": "stdout",
     "output_type": "stream",
     "text": [
      "14\n"
     ]
    }
   ],
   "source": [
    "#Initial quantity of sample = sample, at 100 units\n",
    "sample = 100.0\n",
    "#create a for loop to measure amount decayed each year\n",
    "#loop stops when sample has decayed to half its original amt\n",
    "time = 0  #at t=0\n",
    "#decrease by 5%\n",
    "while sample > 50:\n",
    "    sample*=0.95\n",
    "    time += 1\n",
    "print(time)"
   ]
  },
  {
   "cell_type": "markdown",
   "id": "4c5b55c4",
   "metadata": {},
   "source": [
    "## Exercise 5"
   ]
  },
  {
   "cell_type": "code",
   "execution_count": 3,
   "id": "6af41629",
   "metadata": {},
   "outputs": [],
   "source": [
    "co2_data = [\n",
    "    (2000, 369.55), (2001, 371.14), (2002, 373.28), \n",
    "    (2003, 375.80), (2004, 377.52), (2005, 379.80), \n",
    "    (2006, 381.90), (2007, 383.79), (2008, 385.60), \n",
    "    (2009, 387.43), (2010, 389.90), (2011, 391.65), \n",
    "    (2012, 393.85), (2013, 396.52), (2014, 398.65),\n",
    "    (2015, 400.83), (2016, 404.24), (2017, 406.55), \n",
    "    (2018, 408.52), (2019, 411.44), (2020, 414.24)\n",
    "]"
   ]
  },
  {
   "cell_type": "code",
   "execution_count": 12,
   "id": "0f30423d",
   "metadata": {},
   "outputs": [
    {
     "name": "stdout",
     "output_type": "stream",
     "text": [
      " In 2015, there was an increase in 3.41ppm of CO2.\n"
     ]
    }
   ],
   "source": [
    "#for loop screens through all the elements in the list co2_data excluding the last element\n",
    "for index in range(0,len(co2_data)-1):\n",
    "    #Difference in co2 level of the two years is the variable \"increase_in_co2\"\n",
    "    increase_in_co2 = co2_data[index+1][1]- co2_data[index][1]\n",
    "    #Checks if difference is less than or equal to 3\n",
    "    if increase_in_co2 >= 3:\n",
    "        print(f\" In {co2_data[index][0]}, there was an increase in {increase_in_co2:.2f}ppm of CO2.\")\n",
    "\n",
    "\n",
    "\n",
    "    \n",
    "        "
   ]
  }
 ],
 "metadata": {
  "kernelspec": {
   "display_name": "Python 3 (ipykernel)",
   "language": "python",
   "name": "python3"
  },
  "language_info": {
   "codemirror_mode": {
    "name": "ipython",
    "version": 3
   },
   "file_extension": ".py",
   "mimetype": "text/x-python",
   "name": "python",
   "nbconvert_exporter": "python",
   "pygments_lexer": "ipython3",
   "version": "3.11.5"
  },
  "toc": {
   "base_numbering": 1,
   "nav_menu": {},
   "number_sections": true,
   "sideBar": true,
   "skip_h1_title": false,
   "title_cell": "Table of Contents",
   "title_sidebar": "Contents",
   "toc_cell": false,
   "toc_position": {},
   "toc_section_display": true,
   "toc_window_display": false
  },
  "varInspector": {
   "cols": {
    "lenName": 16,
    "lenType": 16,
    "lenVar": 40
   },
   "kernels_config": {
    "python": {
     "delete_cmd_postfix": "",
     "delete_cmd_prefix": "del ",
     "library": "var_list.py",
     "varRefreshCmd": "print(var_dic_list())"
    },
    "r": {
     "delete_cmd_postfix": ") ",
     "delete_cmd_prefix": "rm(",
     "library": "var_list.r",
     "varRefreshCmd": "cat(var_dic_list()) "
    }
   },
   "types_to_exclude": [
    "module",
    "function",
    "builtin_function_or_method",
    "instance",
    "_Feature"
   ],
   "window_display": false
  },
  "vscode": {
   "interpreter": {
    "hash": "31f2aee4e71d21fbe5cf8b01ff0e069b9275f58929596ceb00d14d90e3e16cd6"
   }
  }
 },
 "nbformat": 4,
 "nbformat_minor": 5
}
