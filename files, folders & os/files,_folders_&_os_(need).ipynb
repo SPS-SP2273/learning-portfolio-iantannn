{
 "cells": [
  {
   "cell_type": "markdown",
   "id": "123456",
   "metadata": {},
   "source": [
    "<div style=\"text-align:left;font-size:2em\"><span style=\"font-weight:bolder;font-size:1.25em\">SP2273 | Learning Portfolio</span><br><br><span style=\"font-weight:bold;color:darkred\">Files, Folders & OS (Need)</span></div>"
   ]
  },
  {
   "cell_type": "markdown",
   "id": "a83b2bb9",
   "metadata": {},
   "source": [
    "# What to expect in this chapter"
   ]
  },
  {
   "cell_type": "markdown",
   "id": "c64755c6",
   "metadata": {},
   "source": [
    "# 1 Important concepts"
   ]
  },
  {
   "cell_type": "markdown",
   "id": "aeddb8fc",
   "metadata": {},
   "source": [
    "## 1.1 Path"
   ]
  },
  {
   "cell_type": "markdown",
   "id": "eb77507e",
   "metadata": {},
   "source": [
    "## 1.2 More about relative paths"
   ]
  },
  {
   "cell_type": "markdown",
   "id": "84b79585",
   "metadata": {},
   "source": [
    "### macOS or Linux"
   ]
  },
  {
   "cell_type": "markdown",
   "id": "7b26749a",
   "metadata": {},
   "source": [
    "## 1.3 Path separator"
   ]
  },
  {
   "cell_type": "markdown",
   "id": "c1fb2e8f",
   "metadata": {},
   "source": [
    "## 1.4 Text files vs. Binary files"
   ]
  },
  {
   "cell_type": "markdown",
   "id": "a5699a33",
   "metadata": {},
   "source": [
    "## 1.5 Extensions"
   ]
  },
  {
   "cell_type": "markdown",
   "id": "398067cb",
   "metadata": {},
   "source": [
    "# 2 Opening and closing files"
   ]
  },
  {
   "cell_type": "code",
   "execution_count": null,
   "id": "a69b9dbf",
   "metadata": {},
   "outputs": [],
   "source": [
    "#r specifies just reading\n",
    "with open('spectrum-01.txt','r') as file:\n",
    "    file_content = file.read()\n",
    "print(file_content)"
   ]
  },
  {
   "cell_type": "markdown",
   "id": "63fa666a",
   "metadata": {},
   "source": [
    "## 2.1 Reading data"
   ]
  },
  {
   "cell_type": "markdown",
   "id": "b124c020",
   "metadata": {},
   "source": [
    "## 2.2 Writing data"
   ]
  },
  {
   "cell_type": "code",
   "execution_count": null,
   "id": "72a8d412",
   "metadata": {},
   "outputs": [],
   "source": [
    "text = 'Far out in the uncharted backwaters of the unfashionable end of the western spiral arm of the Galaxy lies a small unregarded yellow sun.\\nOrbiting this at a distance of roughly ninety-two million miles is an utterly insignificant little blue green planet whose ape-descended life forms are so amazingly primitive that they still think digital watches are a pretty neat idea.'"
   ]
  },
  {
   "cell_type": "markdown",
   "id": "32df8010",
   "metadata": {},
   "source": [
    "### Writing to a file in one go"
   ]
  },
  {
   "cell_type": "code",
   "execution_count": null,
   "id": "b3689b1b",
   "metadata": {},
   "outputs": [],
   "source": [
    "with open('my-text-once.txt', 'w') as file:\n",
    "    file.write(text)\n",
    "# Your code here\n",
    "#open a txt file, to write\n",
    "#save this new document as file\n",
    "#write out the variable (text)"
   ]
  },
  {
   "cell_type": "markdown",
   "id": "99728350",
   "metadata": {},
   "source": [
    "### Writing to a file, line by line"
   ]
  },
  {
   "cell_type": "code",
   "execution_count": null,
   "id": "42a88cd2",
   "metadata": {},
   "outputs": [],
   "source": [
    "with open('my-text-lines.txt','w') as file:\n",
    "#splitting the string \"text\" at the line boundaries(\\n)\n",
    "    for line in text.splitlines():\n",
    "        #for loop that goes ard the list \"text.splitlines()\"\n",
    "        #each line is an element\n",
    "        file.writelines(line)\n",
    "        #file.writelines()used for LIST of strings\n",
    "        #file.write used for just a string\n",
    "# Your code here\n"
   ]
  },
  {
   "cell_type": "markdown",
   "id": "f37b831b",
   "metadata": {},
   "source": [
    "# 3 Some useful packages"
   ]
  },
  {
   "cell_type": "code",
   "execution_count": 2,
   "id": "99def02a",
   "metadata": {},
   "outputs": [],
   "source": [
    "import os     #to talk to the os\n",
    "import glob   #to search for files\n",
    "import shutil #to copy files"
   ]
  },
  {
   "cell_type": "markdown",
   "id": "80649934",
   "metadata": {},
   "source": [
    "# 4 OS safe paths"
   ]
  },
  {
   "cell_type": "code",
   "execution_count": null,
   "id": "85dce6de",
   "metadata": {},
   "outputs": [],
   "source": [
    "path = os.path.join('.','Macintosh HD')\n",
    "print(path)\n",
    "\n",
    "#recall . means this folder\n"
   ]
  },
  {
   "cell_type": "markdown",
   "id": "fe4d605a",
   "metadata": {},
   "source": [
    "# 5 Folders"
   ]
  },
  {
   "cell_type": "markdown",
   "id": "9a6a55a3",
   "metadata": {},
   "source": [
    "## 5.1 Creating folders"
   ]
  },
  {
   "cell_type": "code",
   "execution_count": 3,
   "id": "724159fe",
   "metadata": {},
   "outputs": [
    {
     "ename": "FileExistsError",
     "evalue": "[Errno 17] File exists: 'people'",
     "output_type": "error",
     "traceback": [
      "\u001b[0;31m---------------------------------------------------------------------------\u001b[0m",
      "\u001b[0;31mFileExistsError\u001b[0m                           Traceback (most recent call last)",
      "Cell \u001b[0;32mIn[3], line 1\u001b[0m\n\u001b[0;32m----> 1\u001b[0m os\u001b[38;5;241m.\u001b[39mmkdir(\u001b[38;5;124m'\u001b[39m\u001b[38;5;124mpeople\u001b[39m\u001b[38;5;124m'\u001b[39m)\n\u001b[1;32m      3\u001b[0m \u001b[38;5;28;01mfor\u001b[39;00m person \u001b[38;5;129;01min\u001b[39;00m [\u001b[38;5;124m'\u001b[39m\u001b[38;5;124mJohn\u001b[39m\u001b[38;5;124m'\u001b[39m, \u001b[38;5;124m'\u001b[39m\u001b[38;5;124mPaul\u001b[39m\u001b[38;5;124m'\u001b[39m, \u001b[38;5;124m'\u001b[39m\u001b[38;5;124mRingo\u001b[39m\u001b[38;5;124m'\u001b[39m]:\n\u001b[1;32m      4\u001b[0m     path \u001b[38;5;241m=\u001b[39m os\u001b[38;5;241m.\u001b[39mpath\u001b[38;5;241m.\u001b[39mjoin(\u001b[38;5;124m'\u001b[39m\u001b[38;5;124mpeople\u001b[39m\u001b[38;5;124m'\u001b[39m, person)\n",
      "\u001b[0;31mFileExistsError\u001b[0m: [Errno 17] File exists: 'people'"
     ]
    }
   ],
   "source": [
    "#make a directory named \"people\"\n",
    "os.mkdir('people')\n",
    "\n",
    "#for loop with a list of people\n",
    "for person in ['John', 'Paul', 'Ringo']:\n",
    "    #variable called \"path\"\n",
    "    path = os.path.join('people', person)\n",
    "    #os.path.join() function creates a path to the file\n",
    "    #\"people\" for each string element \"person\" in the loop\n",
    "    print(f'creating {path}')\n",
    "    #print statement to show that the action is done\n",
    "    os.mkdir(path)\n",
    "    #create directory specified by the variable path"
   ]
  },
  {
   "cell_type": "code",
   "execution_count": 8,
   "id": "e60f5913",
   "metadata": {},
   "outputs": [
    {
     "name": "stdout",
     "output_type": "stream",
     "text": [
      "creating completed 2273 learning journals/lesson 1\n",
      "creating completed 2273 learning journals/lesson 2\n",
      "creating completed 2273 learning journals/lesson 3\n"
     ]
    }
   ],
   "source": [
    "os.mkdir(\"completed 2273 learning journals\")\n",
    "\n",
    "for learning_journal in ['lesson 1', 'lesson 2', 'lesson 3']:\n",
    "    path = os.path.join('completed 2273 learning journals', learning_journal)\n",
    "    print(f\"creating {path}\")\n",
    "    os.mkdir(path)"
   ]
  },
  {
   "cell_type": "markdown",
   "id": "3d9b71e1",
   "metadata": {},
   "source": [
    "## 5.2 Checking for existence"
   ]
  },
  {
   "cell_type": "markdown",
   "id": "80172570",
   "metadata": {},
   "source": [
    "### Using try-except"
   ]
  },
  {
   "cell_type": "code",
   "execution_count": 9,
   "id": "250a8902",
   "metadata": {},
   "outputs": [
    {
     "name": "stdout",
     "output_type": "stream",
     "text": [
      "people/John already exists; skipping creation.\n",
      "people/Paul already exists; skipping creation.\n",
      "people/Ringo already exists; skipping creation.\n"
     ]
    }
   ],
   "source": [
    "for person in ['John', 'Paul', 'Ringo']:\n",
    "    path = os.path.join('people', person)\n",
    "    try:\n",
    "        #try to create a directory to the \"path\"\n",
    "        os.mkdir(path)\n",
    "        #if yes print \"creating {path}\"\n",
    "        print(f'Creating {path}')\n",
    "    except FileExistsError:\n",
    "        #Should the file alr exist (file exist error),\n",
    "        #print path alr exist\n",
    "        print(f'{path} already exists; skipping creation.')\n",
    "# Your code here\n"
   ]
  },
  {
   "cell_type": "markdown",
   "id": "f631002a",
   "metadata": {},
   "source": [
    "### Using os.path.exists()"
   ]
  },
  {
   "cell_type": "code",
   "execution_count": 11,
   "id": "4356c953",
   "metadata": {},
   "outputs": [
    {
     "name": "stdout",
     "output_type": "stream",
     "text": [
      "people/John already exists; skipping creation.\n",
      "people/Paul already exists; skipping creation.\n",
      "people/Ringo already exists; skipping creation.\n"
     ]
    }
   ],
   "source": [
    "for person in ['John', 'Paul', 'Ringo']:\n",
    "    path = os.path.join('people', person)\n",
    "    if os.path.exists(path):\n",
    "        print(f'{path} already exists; skipping creation.')\n",
    "    else:\n",
    "        os.mkdir(path)\n",
    "        print(f'Creating {path}')\n",
    "\n",
    "#os.path.exists(path) takes boolean commands\n",
    "#checks if the path already exists\n"
   ]
  },
  {
   "cell_type": "markdown",
   "id": "c0f15b35",
   "metadata": {},
   "source": [
    "## 5.3 Copying files"
   ]
  },
  {
   "cell_type": "code",
   "execution_count": 14,
   "id": "f2a45e7f",
   "metadata": {},
   "outputs": [
    {
     "name": "stdout",
     "output_type": "stream",
     "text": [
      "Copied file to people/John\n",
      "Copied file to people/Paul\n",
      "Copied file to people/Ringo\n"
     ]
    }
   ],
   "source": [
    "for person in ['John', 'Paul', 'Ringo']:\n",
    "    \n",
    "    #the variable \"path_to_destination\" creates the path to the folder\n",
    "    #\"people\" and each variable \"person\" in the for loop\n",
    "    path_to_destination = os.path.join('people', person)\n",
    "    \n",
    "    #shutil.copy(the specific file, to the path created)\n",
    "    shutil.copy('sp2273_logo.png', path_to_destination)\n",
    "    \n",
    "    print(f'Copied file to {path_to_destination}')\n",
    "    \n",
    "#file must be in the same folder as jupyter"
   ]
  },
  {
   "cell_type": "code",
   "execution_count": 16,
   "id": "303662c0",
   "metadata": {},
   "outputs": [
    {
     "name": "stdout",
     "output_type": "stream",
     "text": [
      "move logo to people/John/imgs/sp2273_logo.png\n",
      "move logo to people/Paul/imgs/sp2273_logo.png\n",
      "move logo to people/Ringo/imgs/sp2273_logo.png\n"
     ]
    }
   ],
   "source": [
    "for person in ['John', 'Paul', \"Ringo\"]:\n",
    "    \n",
    "    #creates a path to each folder and a new folder \"img\"\n",
    "    path_to_imgs = os.path.join('people', person, 'imgs')\n",
    "    #checks if file exist\n",
    "    if not os.path.exists(path_to_imgs):\n",
    "        os.mkdir(path_to_imgs)\n",
    "\n",
    "    #Create path of image currently\n",
    "    current_image_path = os.path.join(\"people\", person, \"sp2273_logo.png\")\n",
    "    path_we_want = os.path.join(\"people\", person, \"imgs\", \"sp2273_logo.png\")\n",
    "    \n",
    "    #Shutil.move copies the photo in current path to the\n",
    "    #desired path\n",
    "    shutil.move(current_image_path, path_we_want)\n",
    "    print(f\"move logo to {path_we_want}\")"
   ]
  },
  {
   "cell_type": "markdown",
   "id": "58d749e0",
   "metadata": {},
   "source": [
    "# 6 Listing and looking for files"
   ]
  },
  {
   "cell_type": "code",
   "execution_count": 17,
   "id": "93c56f42",
   "metadata": {},
   "outputs": [
    {
     "data": {
      "text/plain": [
       "['my-text-once.txt',\n",
       " 'files,_folders_&_os_(need).ipynb',\n",
       " 'sp2273_logo.png',\n",
       " 'spectrum-01.rtf',\n",
       " 'people',\n",
       " 'my-text-lines.txt']"
      ]
     },
     "execution_count": 17,
     "metadata": {},
     "output_type": "execute_result"
    }
   ],
   "source": [
    "#glob.glob() gathers all the files in the current directory\n",
    "#\"*\" means anything, glob.glob(\"*\") means to give anything in the folder\n",
    "glob.glob('*')"
   ]
  },
  {
   "cell_type": "code",
   "execution_count": 19,
   "id": "25364479",
   "metadata": {},
   "outputs": [
    {
     "data": {
      "text/plain": [
       "['people']"
      ]
     },
     "execution_count": 19,
     "metadata": {},
     "output_type": "execute_result"
    }
   ],
   "source": [
    "#Search for everything in the current directory that has \"peo\" in it\n",
    "glob.glob('peo*')"
   ]
  },
  {
   "cell_type": "code",
   "execution_count": 20,
   "id": "21a35d7f",
   "metadata": {},
   "outputs": [
    {
     "data": {
      "text/plain": [
       "['people/Paul', 'people/John', 'people/Ringo']"
      ]
     },
     "execution_count": 20,
     "metadata": {},
     "output_type": "execute_result"
    }
   ],
   "source": [
    "# */* identifies everything in side the folder\n",
    "# The code identifies the files inside folders with \"peo\" inside\n",
    "glob.glob('peo*/*')"
   ]
  },
  {
   "cell_type": "code",
   "execution_count": 21,
   "id": "5b02629e",
   "metadata": {},
   "outputs": [
    {
     "data": {
      "text/plain": [
       "['people/',\n",
       " 'people/Paul',\n",
       " 'people/Paul/imgs',\n",
       " 'people/Paul/imgs/sp2273_logo.png',\n",
       " 'people/John',\n",
       " 'people/John/imgs',\n",
       " 'people/John/imgs/sp2273_logo.png',\n",
       " 'people/Ringo',\n",
       " 'people/Ringo/imgs',\n",
       " 'people/Ringo/imgs/sp2273_logo.png']"
      ]
     },
     "execution_count": 21,
     "metadata": {},
     "output_type": "execute_result"
    }
   ],
   "source": [
    "#To identify everything in the file\n",
    "#/** means all sub-directories as well\n",
    "glob.glob('people/**', recursive=True)"
   ]
  },
  {
   "cell_type": "code",
   "execution_count": 22,
   "id": "46ff3594",
   "metadata": {},
   "outputs": [
    {
     "data": {
      "text/plain": [
       "['people/Paul', 'people/John', 'people/Ringo']"
      ]
     },
     "execution_count": 22,
     "metadata": {},
     "output_type": "execute_result"
    }
   ],
   "source": [
    "#without recursive it behaves like people*/*\n",
    "glob.glob('people/**')"
   ]
  },
  {
   "cell_type": "code",
   "execution_count": 23,
   "id": "6965057d",
   "metadata": {},
   "outputs": [
    {
     "data": {
      "text/plain": [
       "['people/Paul', 'people/John', 'people/Ringo']"
      ]
     },
     "execution_count": 23,
     "metadata": {},
     "output_type": "execute_result"
    }
   ],
   "source": [
    "glob.glob('people/**', recursive=False)"
   ]
  },
  {
   "cell_type": "markdown",
   "id": "6e1e806e",
   "metadata": {},
   "source": [
    "Recursive=True is needed to allow glob.glob to repeat it's function to show all directories and sub-directories"
   ]
  },
  {
   "cell_type": "code",
   "execution_count": 24,
   "id": "b0c40287",
   "metadata": {},
   "outputs": [
    {
     "data": {
      "text/plain": [
       "['people/Paul/imgs/sp2273_logo.png',\n",
       " 'people/John/imgs/sp2273_logo.png',\n",
       " 'people/Ringo/imgs/sp2273_logo.png']"
      ]
     },
     "execution_count": 24,
     "metadata": {},
     "output_type": "execute_result"
    }
   ],
   "source": [
    "#Additional /*.png only shows specific files in the subdirectories containing .png\n",
    "\n",
    "glob.glob('people/**/*.png', recursive=True)"
   ]
  },
  {
   "cell_type": "markdown",
   "id": "0c9c94d0",
   "metadata": {},
   "source": [
    "# 7 Extracting file info"
   ]
  },
  {
   "cell_type": "code",
   "execution_count": 25,
   "id": "9b0b1247",
   "metadata": {},
   "outputs": [
    {
     "name": "stdout",
     "output_type": "stream",
     "text": [
      "sp2273_logo.png png\n"
     ]
    }
   ],
   "source": [
    "#path is defined as the path of the file sp2273_logo.png\n",
    "path = 'people/Ringo/imgs/sp2273_logo.png'\n",
    "\n",
    "#path.split the string into a list of components, each element stops at the /\n",
    "#os.path.sep refers to the \"/\", the path separator\n",
    "#[-1] refers to the last element in the list which is \"sp2273_logo.png\"\n",
    "filename = path.split(os.path.sep)[-1]\n",
    "\n",
    "#filename.split splits \"sp2273_logo.png\" into a list [\"sp2273_logo\", \"png\"]\n",
    "#separated by the \".\"\n",
    "#to identify the extention, it assume the extention is the last element aft the \".\"\n",
    "#hence [-1]\n",
    "extension = filename.split('.')[-1]\n",
    "\n",
    "\n",
    "print(filename, extension)"
   ]
  },
  {
   "cell_type": "code",
   "execution_count": 27,
   "id": "566d0b35",
   "metadata": {},
   "outputs": [
    {
     "name": "stdout",
     "output_type": "stream",
     "text": [
      "('people/Ringo/imgs', 'sp2273_logo.png')\n"
     ]
    }
   ],
   "source": [
    "#split the filename\n",
    "print(os.path.split(path))"
   ]
  },
  {
   "cell_type": "code",
   "execution_count": 28,
   "id": "4b8e652c",
   "metadata": {},
   "outputs": [
    {
     "name": "stdout",
     "output_type": "stream",
     "text": [
      "('people/Ringo/imgs/sp2273_logo', '.png')\n"
     ]
    }
   ],
   "source": [
    "#Split the extention from the filename\n",
    "print(os.path.splitext(path))"
   ]
  },
  {
   "cell_type": "code",
   "execution_count": 29,
   "id": "a434f7ae",
   "metadata": {},
   "outputs": [
    {
     "name": "stdout",
     "output_type": "stream",
     "text": [
      "people/Ringo/imgs\n"
     ]
    }
   ],
   "source": [
    "#Show the directory, in the folder people, ringo, imgs\n",
    "print(os.path.dirname(path))"
   ]
  },
  {
   "cell_type": "markdown",
   "id": "ac3eec29",
   "metadata": {},
   "source": [
    "# 8 Deleting stuff"
   ]
  },
  {
   "cell_type": "markdown",
   "id": "df8c655f",
   "metadata": {},
   "source": [
    "the file will really be gone forever dont anyhow delete stuff"
   ]
  },
  {
   "cell_type": "code",
   "execution_count": null,
   "id": "0214f728",
   "metadata": {},
   "outputs": [],
   "source": [
    "#os.remove() to remove and delete a file\n",
    "os.remove('people/Ringo/imgs/sp2273_logo.png')"
   ]
  },
  {
   "cell_type": "code",
   "execution_count": 32,
   "id": "5dccf95f",
   "metadata": {},
   "outputs": [
    {
     "ename": "OSError",
     "evalue": "[Errno 66] Directory not empty: 'people/Ringo'",
     "output_type": "error",
     "traceback": [
      "\u001b[0;31m---------------------------------------------------------------------------\u001b[0m",
      "\u001b[0;31mOSError\u001b[0m                                   Traceback (most recent call last)",
      "Cell \u001b[0;32mIn[32], line 3\u001b[0m\n\u001b[1;32m      1\u001b[0m \u001b[38;5;66;03m#rmdir removes directories that are empty\u001b[39;00m\n\u001b[1;32m      2\u001b[0m \u001b[38;5;66;03m#the folder \"ringo\" contains a file called \"imgs\"\u001b[39;00m\n\u001b[0;32m----> 3\u001b[0m os\u001b[38;5;241m.\u001b[39mrmdir(\u001b[38;5;124m'\u001b[39m\u001b[38;5;124mpeople/Ringo\u001b[39m\u001b[38;5;124m'\u001b[39m)\n",
      "\u001b[0;31mOSError\u001b[0m: [Errno 66] Directory not empty: 'people/Ringo'"
     ]
    }
   ],
   "source": [
    "#rmdir removes directories that are empty\n",
    "#the folder \"ringo\" contains a file called \"imgs\"\n",
    "os.rmdir('people/Ringo')"
   ]
  },
  {
   "cell_type": "code",
   "execution_count": 33,
   "id": "3c0737c8",
   "metadata": {},
   "outputs": [],
   "source": [
    "#shutil.rmtree removes directories with files\n",
    "shutil.rmtree('people/Ringo')"
   ]
  }
 ],
 "metadata": {
  "kernelspec": {
   "display_name": "Python 3 (ipykernel)",
   "language": "python",
   "name": "python3"
  },
  "language_info": {
   "codemirror_mode": {
    "name": "ipython",
    "version": 3
   },
   "file_extension": ".py",
   "mimetype": "text/x-python",
   "name": "python",
   "nbconvert_exporter": "python",
   "pygments_lexer": "ipython3",
   "version": "3.11.5"
  },
  "toc": {
   "base_numbering": 1,
   "nav_menu": {},
   "number_sections": true,
   "sideBar": true,
   "skip_h1_title": false,
   "title_cell": "Table of Contents",
   "title_sidebar": "Contents",
   "toc_cell": false,
   "toc_position": {},
   "toc_section_display": true,
   "toc_window_display": false
  },
  "varInspector": {
   "cols": {
    "lenName": 16,
    "lenType": 16,
    "lenVar": 40
   },
   "kernels_config": {
    "python": {
     "delete_cmd_postfix": "",
     "delete_cmd_prefix": "del ",
     "library": "var_list.py",
     "varRefreshCmd": "print(var_dic_list())"
    },
    "r": {
     "delete_cmd_postfix": ") ",
     "delete_cmd_prefix": "rm(",
     "library": "var_list.r",
     "varRefreshCmd": "cat(var_dic_list()) "
    }
   },
   "types_to_exclude": [
    "module",
    "function",
    "builtin_function_or_method",
    "instance",
    "_Feature"
   ],
   "window_display": false
  },
  "vscode": {
   "interpreter": {
    "hash": "31f2aee4e71d21fbe5cf8b01ff0e069b9275f58929596ceb00d14d90e3e16cd6"
   }
  }
 },
 "nbformat": 4,
 "nbformat_minor": 5
}
