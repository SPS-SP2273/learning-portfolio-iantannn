{
 "cells": [
  {
   "cell_type": "markdown",
   "id": "123456",
   "metadata": {},
   "source": [
    "<div style=\"text-align:left;font-size:2em\"><span style=\"font-weight:bolder;font-size:1.25em\">SP2273 | Learning Portfolio</span><br><br><span style=\"font-weight:bold;color:darkred\">Fundamentals (Need) Exercises</span></div>"
   ]
  },
  {
   "cell_type": "markdown",
   "id": "5dd55e56",
   "metadata": {},
   "source": [
    "1. print function\n",
    "2. storage of data in the form of\n",
    "    1. lists and dictionaries\n",
    "3. Performing mathematical calculations\n",
    "4. Importing functions like numpy and math\n",
    "5. F-string formatting\n",
    "    1. rounding off floats\n",
    "    2. shifting left right and centre\n",
    "\n",
    "# things missed out\n",
    "*1. Variables and how to assign values to them*\n",
    "\n",
    "*2. if functions and elif functions*\n",
    "\n",
    "*3. Checking for an element in a list*\n",
    "\n",
    "*4. Checking for numerical operators*\n",
    "\n",
    "*5. escape sequences*\n",
    "\n",
    "*6. Comments *"
   ]
  },
  {
   "cell_type": "code",
   "execution_count": 6,
   "id": "5702fbd3",
   "metadata": {},
   "outputs": [
    {
     "name": "stdout",
     "output_type": "stream",
     "text": [
      "3 4 5\n"
     ]
    }
   ],
   "source": [
    "x, y = 3, 4\n",
    "import numpy as np\n",
    "\n",
    "z = int(np.sqrt(x**2 + y**2))\n",
    "\n",
    "print(x, y, z)"
   ]
  },
  {
   "cell_type": "markdown",
   "id": "b2aa63ef",
   "metadata": {},
   "source": [
    "$$\n",
    "\n",
    "|#  |Term|Description|\n",
    "|:--|:--:|----------:|\n",
    "|1|Function| An instruction for python to do something|\n",
    "|2|Arguments|Something that is read by the function|\n",
    "|3|Comments|A segment that is not read by python|\n",
    "|4|Indentations|A chunk of function that belongs to another function|\n",
    "|5|Packages|Pre determined set of functions that are not in the python database|\n",
    "|6|.|Indicating a function that belongs to a certain package or variable|\n",
    "|7|:|Indicates the end of a said condition, or to demarcate a key and the element in a dictionary|\n",
    "|8|[]|To define a list|\n",
    "|9|[[[]]]|A multidimensional list, where there is a list within a list|\n",
    "|10|{}|To define a dictionary, where the elements have a specific key|\n",
    "\n",
    "$$"
   ]
  },
  {
   "cell_type": "code",
   "execution_count": 8,
   "id": "20136838",
   "metadata": {},
   "outputs": [
    {
     "data": {
      "text/plain": [
       "2.5"
      ]
     },
     "execution_count": 8,
     "metadata": {},
     "output_type": "execute_result"
    }
   ],
   "source": [
    "5/2 #Divides a number"
   ]
  },
  {
   "cell_type": "code",
   "execution_count": 10,
   "id": "e146a852",
   "metadata": {},
   "outputs": [
    {
     "data": {
      "text/plain": [
       "2"
      ]
     },
     "execution_count": 10,
     "metadata": {},
     "output_type": "execute_result"
    }
   ],
   "source": [
    "5//2 #Divides a number and rounds it off to the nearest whole number"
   ]
  },
  {
   "cell_type": "code",
   "execution_count": 11,
   "id": "edbad3f0",
   "metadata": {},
   "outputs": [
    {
     "data": {
      "text/plain": [
       "1"
      ]
     },
     "execution_count": 11,
     "metadata": {},
     "output_type": "execute_result"
    }
   ],
   "source": [
    "5%2 #Divides a number and gives the remainder"
   ]
  }
 ],
 "metadata": {
  "kernelspec": {
   "display_name": "Python 3 (ipykernel)",
   "language": "python",
   "name": "python3"
  },
  "language_info": {
   "codemirror_mode": {
    "name": "ipython",
    "version": 3
   },
   "file_extension": ".py",
   "mimetype": "text/x-python",
   "name": "python",
   "nbconvert_exporter": "python",
   "pygments_lexer": "ipython3",
   "version": "3.11.5"
  },
  "toc": {
   "base_numbering": 1,
   "nav_menu": {},
   "number_sections": true,
   "sideBar": true,
   "skip_h1_title": false,
   "title_cell": "Table of Contents",
   "title_sidebar": "Contents",
   "toc_cell": false,
   "toc_position": {},
   "toc_section_display": true,
   "toc_window_display": false
  },
  "varInspector": {
   "cols": {
    "lenName": 16,
    "lenType": 16,
    "lenVar": 40
   },
   "kernels_config": {
    "python": {
     "delete_cmd_postfix": "",
     "delete_cmd_prefix": "del ",
     "library": "var_list.py",
     "varRefreshCmd": "print(var_dic_list())"
    },
    "r": {
     "delete_cmd_postfix": ") ",
     "delete_cmd_prefix": "rm(",
     "library": "var_list.r",
     "varRefreshCmd": "cat(var_dic_list()) "
    }
   },
   "types_to_exclude": [
    "module",
    "function",
    "builtin_function_or_method",
    "instance",
    "_Feature"
   ],
   "window_display": false
  },
  "vscode": {
   "interpreter": {
    "hash": "31f2aee4e71d21fbe5cf8b01ff0e069b9275f58929596ceb00d14d90e3e16cd6"
   }
  }
 },
 "nbformat": 4,
 "nbformat_minor": 5
}
